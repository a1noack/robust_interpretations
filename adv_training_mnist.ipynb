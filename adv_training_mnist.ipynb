{
 "cells": [
  {
   "cell_type": "code",
   "execution_count": 255,
   "metadata": {},
   "outputs": [],
   "source": [
    "import torch\n",
    "import torchvision\n",
    "import torch.nn as nn\n",
    "import torch.nn.functional as F\n",
    "import torch.optim as optim\n",
    "import matplotlib.pyplot as plt\n",
    "from advertorch.attacks import LinfPGDAttack"
   ]
  },
  {
   "cell_type": "code",
   "execution_count": 256,
   "metadata": {
    "collapsed": true,
    "jupyter": {
     "outputs_hidden": true
    }
   },
   "outputs": [
    {
     "data": {
      "text/plain": [
       "<torch._C.Generator at 0x10df9faf0>"
      ]
     },
     "execution_count": 256,
     "metadata": {},
     "output_type": "execute_result"
    }
   ],
   "source": [
    "n_epochs = 1\n",
    "batch_size_train = 64\n",
    "batch_size_test = 1000\n",
    "learning_rate = 0.01\n",
    "momentum = 0.5\n",
    "log_interval = 50\n",
    "\n",
    "random_seed = 1\n",
    "torch.backends.cudnn.enabled = False\n",
    "torch.manual_seed(random_seed)"
   ]
  },
  {
   "cell_type": "markdown",
   "metadata": {},
   "source": [
    "### Define data loaders and data preprocessing steps"
   ]
  },
  {
   "cell_type": "code",
   "execution_count": 257,
   "metadata": {},
   "outputs": [],
   "source": [
    "data_preprocess = torchvision.transforms.Compose([\n",
    "                        torchvision.transforms.ToTensor(),\n",
    "                        torchvision.transforms.Normalize((0.1307,), (0.3081,))])\n",
    "\n",
    "\n",
    "train_loader = torch.utils.data.DataLoader(\n",
    "                    torchvision.datasets.MNIST('./data', train=True, download=True,\n",
    "                         transform=data_preprocess), \n",
    "                    batch_size=batch_size_train, \n",
    "                    shuffle=True)\n",
    "\n",
    "test_loader = torch.utils.data.DataLoader(\n",
    "                    torchvision.datasets.MNIST('./data', train=False, download=True,\n",
    "                         transform=data_preprocess), \n",
    "                    batch_size=batch_size_test, \n",
    "                    shuffle=True)"
   ]
  },
  {
   "cell_type": "markdown",
   "metadata": {},
   "source": [
    "### Define the model"
   ]
  },
  {
   "cell_type": "code",
   "execution_count": 260,
   "metadata": {},
   "outputs": [],
   "source": [
    "class Net(nn.Module):\n",
    "    def __init__(self):\n",
    "        super(Net, self).__init__()\n",
    "        self.conv1 = nn.Conv2d(1, 10, kernel_size=5)\n",
    "        self.fc1 = nn.Linear((28-(5-1))*(28-(5-1))*10, 128)\n",
    "        self.fc2 = nn.Linear(128, 10)\n",
    "        self.fc1_drop = nn.Dropout(.50)\n",
    "\n",
    "    def forward(self, x):\n",
    "        x = F.relu(self.conv1(x))\n",
    "        x = x.view(-1, (28-4)*(28-4)*10)\n",
    "        x = F.relu(self.fc1_drop(self.fc1(x)))\n",
    "        x = self.fc2(x)\n",
    "        return F.log_softmax(x, dim=1)"
   ]
  },
  {
   "cell_type": "markdown",
   "metadata": {},
   "source": [
    "### Define my loss function for weighting adversarial examples"
   ]
  },
  {
   "cell_type": "code",
   "execution_count": 261,
   "metadata": {},
   "outputs": [],
   "source": [
    "def my_loss(og_output, og_labels, adv_output, adv_labels, alpha=.5):\n",
    "    \"\"\"Weight the loss values for original and adversarial examples\n",
    "    according to hyperparameter alpha. https://arxiv.org/abs/1412.6572\n",
    "    finds that alpha=.5 works well if the number of original and \n",
    "    adversarial examples is equal.\n",
    "    \"\"\"\n",
    "    loss = alpha * F.nll_loss(og_output, og_labels) + (1 - alpha) * F.nll_loss(adv_output, adv_labels)\n",
    "    return loss"
   ]
  },
  {
   "cell_type": "markdown",
   "metadata": {},
   "source": [
    "### Define the train and test functions"
   ]
  },
  {
   "cell_type": "code",
   "execution_count": 262,
   "metadata": {},
   "outputs": [],
   "source": [
    "# utility containers to record how training process goes, used for later visulaztions\n",
    "train_losses = []\n",
    "train_counter = []\n",
    "test_losses = []\n",
    "test_counter = [i*len(train_loader.dataset) for i in range(n_epochs + 1)]"
   ]
  },
  {
   "cell_type": "code",
   "execution_count": 262,
   "metadata": {},
   "outputs": [],
   "source": [
    "def train(epoch, adv=True):\n",
    "    net.train()\n",
    "    for batch_idx, (og_samples, og_labels) in enumerate(train_loader):\n",
    "        optimizer.zero_grad()\n",
    "        \n",
    "        og_output = net(og_samples)\n",
    "        if adv:\n",
    "            adv_samples, adv_labels = generate_adversarial_examples(og_samples, og_labels, net)\n",
    "            adv_output = net(adv_samples)\n",
    "\n",
    "            loss = my_loss(og_output, og_labels, adv_output, adv_labels)\n",
    "        else:\n",
    "            loss = F.nll_loss(og_output, og_labels)\n",
    "        loss.backward()\n",
    "        \n",
    "        optimizer.step()\n",
    "        \n",
    "        if batch_idx % log_interval == 0:\n",
    "            print('Train Epoch: {} [{}/{} ({:.0f}%)]\\tLoss: {:.6f}'.format(\n",
    "                epoch, batch_idx * len(og_samples), len(train_loader.dataset),\n",
    "                100. * batch_idx / len(train_loader), loss.item()))\n",
    "            train_losses.append(loss.item())\n",
    "            train_counter.append((batch_idx*64) + ((epoch-1)*len(train_loader.dataset)))"
   ]
  },
  {
   "cell_type": "code",
   "execution_count": 263,
   "metadata": {},
   "outputs": [],
   "source": [
    "def test(adv=True):\n",
    "    net.eval()\n",
    "    \n",
    "    og_test_loss = 0\n",
    "    adv_test_loss = 0\n",
    "    og_correct = 0\n",
    "    adv_correct = 0\n",
    "    \n",
    "    with torch.no_grad():\n",
    "        for sample, label in test_loader:\n",
    "            output = net(sample)\n",
    "            # negative log-likelihood loss\n",
    "            og_test_loss += F.nll_loss(output, label, reduction='sum').item()\n",
    "            # output is a tensor, .data retrieves its data, max must return the index of the highest valued element\n",
    "            pred = output.data.max(1, keepdim=True)[1]\n",
    "            og_correct += pred.eq(label.data.view_as(pred)).sum()\n",
    "            \n",
    "    if adv:\n",
    "        for og_samples, og_labels in test_loader:\n",
    "            adv_samples, adv_labels = generate_adversarial_examples(og_samples, og_labels, net, num_per_samp=1)\n",
    "            adv_output = net(adv_samples)\n",
    "            # negative log-likelihood loss\n",
    "            adv_test_loss += F.nll_loss(adv_output, adv_labels, reduction='sum').item()\n",
    "            # output is a tensor, .data retrieves its data, max must return the index of the highest valued element\n",
    "            pred = adv_output.data.max(1, keepdim=True)[1]\n",
    "            adv_correct += pred.eq(label.data.view_as(pred)).sum()\n",
    "                \n",
    "    og_test_loss /= len(test_loader.dataset)\n",
    "    test_losses.append(og_test_loss)\n",
    "    \n",
    "    print(f'Test set: Avg. loss: {og_test_loss:.4f}, Accuracy: {og_correct}/{len(test_loader.dataset)} ({100. * og_correct / len(test_loader.dataset):.0f}%)')\n",
    "    \n",
    "    og_pcc = 100. * og_correct / len(test_loader.dataset)\n",
    "\n",
    "    if adv:\n",
    "        adv_pcc = 100. * adv_correct / len(test_loader.dataset)\n",
    "        return og_pcc, adv_pcc\n",
    "    return og_pcc, None"
   ]
  },
  {
   "cell_type": "markdown",
   "metadata": {},
   "source": [
    "### Define the function to create the adversarial examples"
   ]
  },
  {
   "cell_type": "code",
   "execution_count": 264,
   "metadata": {},
   "outputs": [],
   "source": [
    "def generate_adversarial_examples(og_samples, true_labels, net, num_per_samp=1):\n",
    "    \"\"\"Create num_per_samp adversarial examples for each sample in\n",
    "    og_samples. Return the generated samples along with corresponding \n",
    "    adv_labels, a tensor containing the adversarial examples' labels.\n",
    "    \"\"\"\n",
    "    adversary = LinfPGDAttack(\n",
    "        net, loss_fn=F.nll_loss, eps=0.15, nb_iter=40, eps_iter=0.01, \n",
    "        rand_init=True, clip_min=0.0, clip_max=1.0, targeted=False)\n",
    "    adv_untargeted = []\n",
    "    for i in range(num_per_samp):\n",
    "        adv_untargeted.append(adversary.perturb(og_samples, true_labels))\n",
    "    adv_untargeted = torch.cat(adv_untargeted, 0)\n",
    "    adv_labels = torch.cat([true_labels]*num_per_samp, 0)\n",
    "    return adv_untargeted, adv_labels"
   ]
  },
  {
   "cell_type": "markdown",
   "metadata": {},
   "source": [
    "### Instantiate the network and train it"
   ]
  },
  {
   "cell_type": "code",
   "execution_count": 265,
   "metadata": {
    "collapsed": true,
    "jupyter": {
     "outputs_hidden": true
    }
   },
   "outputs": [
    {
     "name": "stdout",
     "output_type": "stream",
     "text": [
      "Train Epoch: 1 [0/60000 (0%)]\tLoss: 2.313135\n",
      "Train Epoch: 1 [640/60000 (1%)]\tLoss: 1.936440\n",
      "Train Epoch: 1 [1280/60000 (2%)]\tLoss: 1.368572\n",
      "Train Epoch: 1 [1920/60000 (3%)]\tLoss: 0.909730\n",
      "Train Epoch: 1 [2560/60000 (4%)]\tLoss: 0.641377\n",
      "Train Epoch: 1 [3200/60000 (5%)]\tLoss: 0.779208\n",
      "Train Epoch: 1 [3840/60000 (6%)]\tLoss: 0.822016\n",
      "Train Epoch: 1 [4480/60000 (7%)]\tLoss: 0.591994\n",
      "Train Epoch: 1 [5120/60000 (9%)]\tLoss: 0.341045\n",
      "Train Epoch: 1 [5760/60000 (10%)]\tLoss: 0.535080\n",
      "Train Epoch: 1 [6400/60000 (11%)]\tLoss: 0.577405\n",
      "Train Epoch: 1 [7040/60000 (12%)]\tLoss: 0.353743\n",
      "Train Epoch: 1 [7680/60000 (13%)]\tLoss: 0.518327\n",
      "Train Epoch: 1 [8320/60000 (14%)]\tLoss: 0.673160\n",
      "Train Epoch: 1 [8960/60000 (15%)]\tLoss: 0.697894\n",
      "Train Epoch: 1 [9600/60000 (16%)]\tLoss: 0.488234\n",
      "Train Epoch: 1 [10240/60000 (17%)]\tLoss: 0.455356\n",
      "Train Epoch: 1 [10880/60000 (18%)]\tLoss: 0.307192\n",
      "Train Epoch: 1 [11520/60000 (19%)]\tLoss: 0.570571\n",
      "Train Epoch: 1 [12160/60000 (20%)]\tLoss: 0.391392\n",
      "Train Epoch: 1 [12800/60000 (21%)]\tLoss: 0.347419\n",
      "Train Epoch: 1 [13440/60000 (22%)]\tLoss: 0.421826\n",
      "Train Epoch: 1 [14080/60000 (23%)]\tLoss: 0.368512\n",
      "Train Epoch: 1 [14720/60000 (25%)]\tLoss: 0.230501\n",
      "Train Epoch: 1 [15360/60000 (26%)]\tLoss: 0.663133\n",
      "Train Epoch: 1 [16000/60000 (27%)]\tLoss: 0.324501\n",
      "Train Epoch: 1 [16640/60000 (28%)]\tLoss: 0.429503\n",
      "Train Epoch: 1 [17280/60000 (29%)]\tLoss: 0.326566\n",
      "Train Epoch: 1 [17920/60000 (30%)]\tLoss: 0.627747\n",
      "Train Epoch: 1 [18560/60000 (31%)]\tLoss: 0.219258\n",
      "Train Epoch: 1 [19200/60000 (32%)]\tLoss: 0.315120\n",
      "Train Epoch: 1 [19840/60000 (33%)]\tLoss: 0.259735\n",
      "Train Epoch: 1 [20480/60000 (34%)]\tLoss: 0.237645\n",
      "Train Epoch: 1 [21120/60000 (35%)]\tLoss: 0.356757\n",
      "Train Epoch: 1 [21760/60000 (36%)]\tLoss: 0.332862\n",
      "Train Epoch: 1 [22400/60000 (37%)]\tLoss: 0.490601\n",
      "Train Epoch: 1 [23040/60000 (38%)]\tLoss: 0.288556\n",
      "Train Epoch: 1 [23680/60000 (39%)]\tLoss: 0.266456\n",
      "Train Epoch: 1 [24320/60000 (41%)]\tLoss: 0.431574\n",
      "Train Epoch: 1 [24960/60000 (42%)]\tLoss: 0.400578\n",
      "Train Epoch: 1 [25600/60000 (43%)]\tLoss: 0.448250\n",
      "Train Epoch: 1 [26240/60000 (44%)]\tLoss: 0.391214\n",
      "Train Epoch: 1 [26880/60000 (45%)]\tLoss: 0.299042\n",
      "Train Epoch: 1 [27520/60000 (46%)]\tLoss: 0.388453\n",
      "Train Epoch: 1 [28160/60000 (47%)]\tLoss: 0.274331\n",
      "Train Epoch: 1 [28800/60000 (48%)]\tLoss: 0.226831\n",
      "Train Epoch: 1 [29440/60000 (49%)]\tLoss: 0.357334\n",
      "Train Epoch: 1 [30080/60000 (50%)]\tLoss: 0.249301\n",
      "Train Epoch: 1 [30720/60000 (51%)]\tLoss: 0.147530\n",
      "Train Epoch: 1 [31360/60000 (52%)]\tLoss: 0.276570\n",
      "Train Epoch: 1 [32000/60000 (53%)]\tLoss: 0.372881\n",
      "Train Epoch: 1 [32640/60000 (54%)]\tLoss: 0.135188\n",
      "Train Epoch: 1 [33280/60000 (55%)]\tLoss: 0.358361\n",
      "Train Epoch: 1 [33920/60000 (57%)]\tLoss: 0.526587\n",
      "Train Epoch: 1 [34560/60000 (58%)]\tLoss: 0.412213\n",
      "Train Epoch: 1 [35200/60000 (59%)]\tLoss: 0.280751\n",
      "Train Epoch: 1 [35840/60000 (60%)]\tLoss: 0.217901\n",
      "Train Epoch: 1 [36480/60000 (61%)]\tLoss: 0.184422\n",
      "Train Epoch: 1 [37120/60000 (62%)]\tLoss: 0.284696\n",
      "Train Epoch: 1 [37760/60000 (63%)]\tLoss: 0.207465\n",
      "Train Epoch: 1 [38400/60000 (64%)]\tLoss: 0.173812\n",
      "Train Epoch: 1 [39040/60000 (65%)]\tLoss: 0.174699\n",
      "Train Epoch: 1 [39680/60000 (66%)]\tLoss: 0.189272\n",
      "Train Epoch: 1 [40320/60000 (67%)]\tLoss: 0.417630\n",
      "Train Epoch: 1 [40960/60000 (68%)]\tLoss: 0.306135\n",
      "Train Epoch: 1 [41600/60000 (69%)]\tLoss: 0.139412\n",
      "Train Epoch: 1 [42240/60000 (70%)]\tLoss: 0.175831\n",
      "Train Epoch: 1 [42880/60000 (71%)]\tLoss: 0.301748\n",
      "Train Epoch: 1 [43520/60000 (72%)]\tLoss: 0.323123\n",
      "Train Epoch: 1 [44160/60000 (74%)]\tLoss: 0.232964\n",
      "Train Epoch: 1 [44800/60000 (75%)]\tLoss: 0.256439\n",
      "Train Epoch: 1 [45440/60000 (76%)]\tLoss: 0.314248\n",
      "Train Epoch: 1 [46080/60000 (77%)]\tLoss: 0.156010\n",
      "Train Epoch: 1 [46720/60000 (78%)]\tLoss: 0.310674\n",
      "Train Epoch: 1 [47360/60000 (79%)]\tLoss: 0.427040\n",
      "Train Epoch: 1 [48000/60000 (80%)]\tLoss: 0.430782\n",
      "Train Epoch: 1 [48640/60000 (81%)]\tLoss: 0.266036\n",
      "Train Epoch: 1 [49280/60000 (82%)]\tLoss: 0.387503\n",
      "Train Epoch: 1 [49920/60000 (83%)]\tLoss: 0.349348\n",
      "Train Epoch: 1 [50560/60000 (84%)]\tLoss: 0.200079\n",
      "Train Epoch: 1 [51200/60000 (85%)]\tLoss: 0.266003\n",
      "Train Epoch: 1 [51840/60000 (86%)]\tLoss: 0.205674\n",
      "Train Epoch: 1 [52480/60000 (87%)]\tLoss: 0.246267\n",
      "Train Epoch: 1 [53120/60000 (88%)]\tLoss: 0.164245\n",
      "Train Epoch: 1 [53760/60000 (90%)]\tLoss: 0.170490\n",
      "Train Epoch: 1 [54400/60000 (91%)]\tLoss: 0.174062\n",
      "Train Epoch: 1 [55040/60000 (92%)]\tLoss: 0.306445\n",
      "Train Epoch: 1 [55680/60000 (93%)]\tLoss: 0.111067\n",
      "Train Epoch: 1 [56320/60000 (94%)]\tLoss: 0.131041\n",
      "Train Epoch: 1 [56960/60000 (95%)]\tLoss: 0.136535\n",
      "Train Epoch: 1 [57600/60000 (96%)]\tLoss: 0.203546\n",
      "Train Epoch: 1 [58240/60000 (97%)]\tLoss: 0.088410\n",
      "Train Epoch: 1 [58880/60000 (98%)]\tLoss: 0.240638\n",
      "Train Epoch: 1 [59520/60000 (99%)]\tLoss: 0.230982\n",
      "Test set: Avg. loss: 0.1507, Accuracy: 9561/10000 (95%)\n",
      "Test set:\n",
      "\tog_pcc = 95\n",
      "\tadv_pcc = 10\n",
      "Train Epoch: 1 [0/60000 (0%)]\tLoss: 2.312087\n",
      "Train Epoch: 1 [640/60000 (1%)]\tLoss: 2.503235\n",
      "Train Epoch: 1 [1280/60000 (2%)]\tLoss: 1.753067\n",
      "Train Epoch: 1 [1920/60000 (3%)]\tLoss: 1.282922\n",
      "Train Epoch: 1 [2560/60000 (4%)]\tLoss: 0.391717\n",
      "Train Epoch: 1 [3200/60000 (5%)]\tLoss: 0.493939\n",
      "Train Epoch: 1 [3840/60000 (6%)]\tLoss: 0.467424\n",
      "Train Epoch: 1 [4480/60000 (7%)]\tLoss: 0.660584\n",
      "Train Epoch: 1 [5120/60000 (9%)]\tLoss: 0.703361\n",
      "Train Epoch: 1 [5760/60000 (10%)]\tLoss: 0.517940\n",
      "Train Epoch: 1 [6400/60000 (11%)]\tLoss: 0.429912\n",
      "Train Epoch: 1 [7040/60000 (12%)]\tLoss: 0.523660\n",
      "Train Epoch: 1 [7680/60000 (13%)]\tLoss: 0.311644\n",
      "Train Epoch: 1 [8320/60000 (14%)]\tLoss: 0.272301\n",
      "Train Epoch: 1 [8960/60000 (15%)]\tLoss: 0.540436\n",
      "Train Epoch: 1 [9600/60000 (16%)]\tLoss: 0.254409\n",
      "Train Epoch: 1 [10240/60000 (17%)]\tLoss: 0.366248\n",
      "Train Epoch: 1 [10880/60000 (18%)]\tLoss: 0.402802\n",
      "Train Epoch: 1 [11520/60000 (19%)]\tLoss: 0.265404\n",
      "Train Epoch: 1 [12160/60000 (20%)]\tLoss: 0.689526\n",
      "Train Epoch: 1 [12800/60000 (21%)]\tLoss: 0.281618\n",
      "Train Epoch: 1 [13440/60000 (22%)]\tLoss: 0.199022\n",
      "Train Epoch: 1 [14080/60000 (23%)]\tLoss: 0.351778\n",
      "Train Epoch: 1 [14720/60000 (25%)]\tLoss: 0.153877\n",
      "Train Epoch: 1 [15360/60000 (26%)]\tLoss: 0.380048\n",
      "Train Epoch: 1 [16000/60000 (27%)]\tLoss: 0.284481\n",
      "Train Epoch: 1 [16640/60000 (28%)]\tLoss: 0.477616\n",
      "Train Epoch: 1 [17280/60000 (29%)]\tLoss: 0.623750\n",
      "Train Epoch: 1 [17920/60000 (30%)]\tLoss: 0.690866\n",
      "Train Epoch: 1 [18560/60000 (31%)]\tLoss: 0.157513\n",
      "Train Epoch: 1 [19200/60000 (32%)]\tLoss: 0.653147\n",
      "Train Epoch: 1 [19840/60000 (33%)]\tLoss: 0.204359\n",
      "Train Epoch: 1 [20480/60000 (34%)]\tLoss: 0.230505\n",
      "Train Epoch: 1 [21120/60000 (35%)]\tLoss: 0.387594\n",
      "Train Epoch: 1 [21760/60000 (36%)]\tLoss: 0.265504\n",
      "Train Epoch: 1 [22400/60000 (37%)]\tLoss: 0.270827\n",
      "Train Epoch: 1 [23040/60000 (38%)]\tLoss: 0.281237\n",
      "Train Epoch: 1 [23680/60000 (39%)]\tLoss: 0.349728\n",
      "Train Epoch: 1 [24320/60000 (41%)]\tLoss: 0.272953\n",
      "Train Epoch: 1 [24960/60000 (42%)]\tLoss: 0.181443\n",
      "Train Epoch: 1 [25600/60000 (43%)]\tLoss: 0.177730\n",
      "Train Epoch: 1 [26240/60000 (44%)]\tLoss: 0.337459\n",
      "Train Epoch: 1 [26880/60000 (45%)]\tLoss: 0.403525\n",
      "Train Epoch: 1 [27520/60000 (46%)]\tLoss: 0.165057\n",
      "Train Epoch: 1 [28160/60000 (47%)]\tLoss: 0.318839\n",
      "Train Epoch: 1 [28800/60000 (48%)]\tLoss: 0.267540\n",
      "Train Epoch: 1 [29440/60000 (49%)]\tLoss: 0.317035\n",
      "Train Epoch: 1 [30080/60000 (50%)]\tLoss: 1.039498\n",
      "Train Epoch: 1 [30720/60000 (51%)]\tLoss: 0.583499\n",
      "Train Epoch: 1 [31360/60000 (52%)]\tLoss: 0.170780\n",
      "Train Epoch: 1 [32000/60000 (53%)]\tLoss: 0.343443\n",
      "Train Epoch: 1 [32640/60000 (54%)]\tLoss: 0.350653\n",
      "Train Epoch: 1 [33280/60000 (55%)]\tLoss: 0.264231\n",
      "Train Epoch: 1 [33920/60000 (57%)]\tLoss: 0.442505\n",
      "Train Epoch: 1 [34560/60000 (58%)]\tLoss: 0.280854\n",
      "Train Epoch: 1 [35200/60000 (59%)]\tLoss: 0.170161\n",
      "Train Epoch: 1 [35840/60000 (60%)]\tLoss: 0.245403\n",
      "Train Epoch: 1 [36480/60000 (61%)]\tLoss: 0.504517\n",
      "Train Epoch: 1 [37120/60000 (62%)]\tLoss: 0.052577\n",
      "Train Epoch: 1 [37760/60000 (63%)]\tLoss: 0.168354\n",
      "Train Epoch: 1 [38400/60000 (64%)]\tLoss: 0.368271\n",
      "Train Epoch: 1 [39040/60000 (65%)]\tLoss: 0.249547\n",
      "Train Epoch: 1 [39680/60000 (66%)]\tLoss: 0.093355\n",
      "Train Epoch: 1 [40320/60000 (67%)]\tLoss: 0.458685\n",
      "Train Epoch: 1 [40960/60000 (68%)]\tLoss: 0.211619\n",
      "Train Epoch: 1 [41600/60000 (69%)]\tLoss: 0.049387\n",
      "Train Epoch: 1 [42240/60000 (70%)]\tLoss: 0.298777\n",
      "Train Epoch: 1 [42880/60000 (71%)]\tLoss: 0.054740\n",
      "Train Epoch: 1 [43520/60000 (72%)]\tLoss: 0.212615\n",
      "Train Epoch: 1 [44160/60000 (74%)]\tLoss: 0.090407\n",
      "Train Epoch: 1 [44800/60000 (75%)]\tLoss: 0.136161\n",
      "Train Epoch: 1 [45440/60000 (76%)]\tLoss: 0.177217\n",
      "Train Epoch: 1 [46080/60000 (77%)]\tLoss: 0.208724\n",
      "Train Epoch: 1 [46720/60000 (78%)]\tLoss: 0.194886\n",
      "Train Epoch: 1 [47360/60000 (79%)]\tLoss: 0.446029\n",
      "Train Epoch: 1 [48000/60000 (80%)]\tLoss: 0.228396\n",
      "Train Epoch: 1 [48640/60000 (81%)]\tLoss: 0.196920\n",
      "Train Epoch: 1 [49280/60000 (82%)]\tLoss: 0.177731\n",
      "Train Epoch: 1 [49920/60000 (83%)]\tLoss: 0.447446\n",
      "Train Epoch: 1 [50560/60000 (84%)]\tLoss: 0.131313\n",
      "Train Epoch: 1 [51200/60000 (85%)]\tLoss: 0.087463\n",
      "Train Epoch: 1 [51840/60000 (86%)]\tLoss: 0.121673\n",
      "Train Epoch: 1 [52480/60000 (87%)]\tLoss: 0.344812\n",
      "Train Epoch: 1 [53120/60000 (88%)]\tLoss: 0.149721\n",
      "Train Epoch: 1 [53760/60000 (90%)]\tLoss: 0.257231\n",
      "Train Epoch: 1 [54400/60000 (91%)]\tLoss: 0.671077\n",
      "Train Epoch: 1 [55040/60000 (92%)]\tLoss: 0.326334\n",
      "Train Epoch: 1 [55680/60000 (93%)]\tLoss: 0.143782\n",
      "Train Epoch: 1 [56320/60000 (94%)]\tLoss: 0.698117\n",
      "Train Epoch: 1 [56960/60000 (95%)]\tLoss: 0.678231\n",
      "Train Epoch: 1 [57600/60000 (96%)]\tLoss: 0.193865\n",
      "Train Epoch: 1 [58240/60000 (97%)]\tLoss: 0.127747\n",
      "Train Epoch: 1 [58880/60000 (98%)]\tLoss: 0.178113\n",
      "Train Epoch: 1 [59520/60000 (99%)]\tLoss: 0.157727\n",
      "Test set: Avg. loss: 0.1390, Accuracy: 9649/10000 (96%)\n",
      "Test set:\n",
      "\tog_pcc = 96\n",
      "\tadv_pcc = 10\n"
     ]
    }
   ],
   "source": [
    "# train the model WITHOUT adversarial examples\n",
    "net = Net()\n",
    "optimizer = optim.SGD(net.parameters(), lr=learning_rate, momentum=momentum)\n",
    "\n",
    "for epoch in range(1, n_epochs + 1):\n",
    "    train(epoch, adv=False)\n",
    "    og_pcc, adv_pcc = test(adv=True)\n",
    "    print(f'Test set:\\n\\tog_pcc = {og_pcc}%\\n\\tadv_pcc = {adv_pcc}%')\n",
    "    \n",
    "# train second version of model WITH adversarial examples\n",
    "net = Net()\n",
    "optimizer = optim.SGD(net.parameters(), lr=learning_rate, momentum=momentum)\n",
    "    \n",
    "for epoch in range(1, n_epochs + 1):\n",
    "    train(epoch, adv=True)\n",
    "    og_pcc, adv_pcc = test(adv=True)\n",
    "    print(f'Test set:\\n\\tog_pcc = {og_pcc}%\\n\\tadv_pcc = {adv_pcc}%')"
   ]
  },
  {
   "cell_type": "markdown",
   "metadata": {},
   "source": [
    "### Visualize the training / testing results"
   ]
  },
  {
   "cell_type": "code",
   "execution_count": 266,
   "metadata": {},
   "outputs": [
    {
     "data": {
      "image/png": "[encoded data removed]",
      "text/plain": [
       "<Figure size 432x288 with 1 Axes>"
      ]
     },
     "execution_count": 266,
     "metadata": {},
     "output_type": "execute_result"
    },
    {
     "data": {
      "image/png": "[encoded data removed]",
      "text/plain": [
       "<Figure size 432x288 with 1 Axes>"
      ]
     },
     "metadata": {
      "needs_background": "light"
     },
     "output_type": "display_data"
    }
   ],
   "source": [
    "fig = plt.figure()\n",
    "plt.plot(train_counter, train_losses, color='blue')\n",
    "plt.scatter(test_counter, test_losses, color='red')\n",
    "plt.legend(['Train Loss', 'Test Loss'], loc='upper right')\n",
    "plt.xlabel('number of training examples seen')\n",
    "plt.ylabel('negative log likelihood loss')\n",
    "fig"
   ]
  }
 ],
 "metadata": {
  "kernelspec": {
   "display_name": "py37",
   "language": "python",
   "name": "py37"
  },
  "language_info": {
   "codemirror_mode": {
    "name": "ipython",
    "version": 3
   },
   "file_extension": ".py",
   "mimetype": "text/x-python",
   "name": "python",
   "nbconvert_exporter": "python",
   "pygments_lexer": "ipython3",
   "version": "3.7.3"
  }
 },
 "nbformat": 4,
 "nbformat_minor": 4
}

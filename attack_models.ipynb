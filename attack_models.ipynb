{
 "cells": [
  {
   "cell_type": "code",
   "execution_count": 62,
   "metadata": {},
   "outputs": [],
   "source": [
    "import torch\n",
    "from lenet import LeNet\n",
    "import torchvision\n",
    "import torchvision.datasets as datasets\n",
    "from interpretation_attacks import SimpleGradientsAttack\n",
    "import matplotlib.pyplot as plt"
   ]
  },
  {
   "cell_type": "code",
   "execution_count": 63,
   "metadata": {},
   "outputs": [],
   "source": [
    "net = LeNet()\n",
    "\n",
    "epsilon = 0\n",
    "alpha_wd = 0\n",
    "alpha_jr = 0\n",
    "training_round = 1\n",
    "\n",
    "net.load_state_dict(torch.load(f'models/ep{epsilon}_wd{alpha_wd}_jr{alpha_jr}', map_location=torch.device('cpu')))\n",
    "net.eval()\n",
    "\n",
    "data_preprocess = torchvision.transforms.Compose([\n",
    "                torchvision.transforms.ToTensor(), \n",
    "                torchvision.transforms.Normalize((0.1307,), (0.3081,))])\n",
    "train_loader = torch.utils.data.DataLoader(\n",
    "                datasets.MNIST(root='./data', train=True, transform=data_preprocess), \n",
    "                batch_size=1, shuffle=True)"
   ]
  },
  {
   "cell_type": "code",
   "execution_count": 67,
   "metadata": {},
   "outputs": [
    {
     "name": "stdout",
     "output_type": "stream",
     "text": [
      "\tlenet(sample) = 3\n"
     ]
    },
    {
     "data": {
      "image/png": "[encoded data removed]",
      "text/plain": [
       "<Figure size 432x288 with 2 Axes>"
      ]
     },
     "metadata": {
      "needs_background": "light"
     },
     "output_type": "display_data"
    }
   ],
   "source": [
    "sample,label = next(iter(train_loader))\n",
    "\n",
    "sga = SimpleGradientsAttack(net, sample, label)\n",
    "saliency_map = sga.saliency_map()\n",
    "mean = torch.mean(saliency_map)\n",
    "std = torch.std(saliency_map)\n",
    "saliency_map = torch.where(saliency_map > mean+1.5*std, saliency_map, torch.tensor(0.))\n",
    "\n",
    "print(f'\\tlenet(sample) = {sga.predict(vector=False)}')\n",
    "plt.imshow(saliency_map, cmap='binary')\n",
    "plt.colorbar()\n",
    "plt.show()"
   ]
  },
  {
   "cell_type": "code",
   "execution_count": null,
   "metadata": {},
   "outputs": [],
   "source": []
  }
 ],
 "metadata": {
  "kernelspec": {
   "display_name": "Python 3",
   "language": "python",
   "name": "python3"
  },
  "language_info": {
   "codemirror_mode": {
    "name": "ipython",
    "version": 3
   },
   "file_extension": ".py",
   "mimetype": "text/x-python",
   "name": "python",
   "nbconvert_exporter": "python",
   "pygments_lexer": "ipython3",
   "version": "3.7.3"
  }
 },
 "nbformat": 4,
 "nbformat_minor": 4
}

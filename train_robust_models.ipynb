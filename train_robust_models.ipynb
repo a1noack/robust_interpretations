{
 "cells": [
  {
   "cell_type": "code",
   "execution_count": 1,
   "metadata": {},
   "outputs": [],
   "source": [
    "\"\"\"Code assumes the ability to train using a GPU with CUDA.\n",
    "\"\"\"\n",
    "import torch\n",
    "import torchvision\n",
    "import torch.nn as nn\n",
    "import torch.nn.functional as F\n",
    "import torch.optim as optim\n",
    "from torch.autograd import Variable\n",
    "from torch.optim.lr_scheduler import StepLR\n",
    "from advertorch.attacks import GradientSignAttack, CarliniWagnerL2Attack, PGDAttack\n",
    "import matplotlib.pyplot as plt\n",
    "import utils.adv_ex_utils as aus\n",
    "from utils.models import LeNet\n",
    "import utils.interp_generators as igs\n",
    "\n",
    "# makes default tensor a CUDA tensor so GPU can be used\n",
    "torch.set_default_tensor_type('torch.cuda.FloatTensor')\n",
    "device = 2\n",
    "torch.cuda.set_device(device)"
   ]
  },
  {
   "cell_type": "markdown",
   "metadata": {},
   "source": [
    "### Define data loaders and data preprocessing steps"
   ]
  },
  {
   "cell_type": "code",
   "execution_count": null,
   "metadata": {},
   "outputs": [],
   "source": [
    "tr_batch_size = 64\n",
    "te_batch_size = 50\n",
    "\n",
    "data_preprocess = torchvision.transforms.Compose([\n",
    "                        torchvision.transforms.ToTensor(),\n",
    "                        torchvision.transforms.Normalize((0.1307,), (0.3081,))])\n",
    "# the mean of mnist pixel data is .1307 and the stddev is .3081\n",
    "\n",
    "train_loader = torch.utils.data.DataLoader(\n",
    "                    torchvision.datasets.MNIST('./data', train=True, download=True,\n",
    "                         transform=data_preprocess), \n",
    "                    batch_size=tr_batch_size, \n",
    "                    shuffle=True)\n",
    "\n",
    "test_loader = torch.utils.data.DataLoader(\n",
    "                    torchvision.datasets.MNIST('./data', train=False, download=True,\n",
    "                         transform=data_preprocess), \n",
    "                    batch_size=te_batch_size, \n",
    "                    shuffle=False)"
   ]
  },
  {
   "cell_type": "markdown",
   "metadata": {},
   "source": [
    "### Functions for Jacobian regularization"
   ]
  },
  {
   "cell_type": "code",
   "execution_count": null,
   "metadata": {},
   "outputs": [],
   "source": [
    "def bp_matrix(batch_size, n_outputs):\n",
    "    \"\"\"Creates matrix that is used to calculate Jacobian for multiple input \n",
    "    samples at once.\n",
    "    \"\"\"\n",
    "    idx = torch.arange(n_outputs).reshape(n_outputs,1).repeat(1,batch_size).reshape(batch_size*n_outputs,)\n",
    "    return torch.zeros(len(idx), n_outputs).scatter_(1, idx.unsqueeze(1), 1.)"
   ]
  },
  {
   "cell_type": "code",
   "execution_count": null,
   "metadata": {},
   "outputs": [],
   "source": [
    "def avg_norm_jacobian(x, n_outputs, bp_mat, for_loss=True):\n",
    "    \"\"\"Returns squared frobenius norm of the input-output Jacobian averaged \n",
    "    over the entire batch of inputs in x.\n",
    "    \"\"\"\n",
    "    batch_size = x.shape[0]\n",
    "    # needed because some edge-case batches are not standard size\n",
    "    if bp_mat.shape[0]/n_outputs != batch_size:     \n",
    "        bp_mat = bp_matrix(batch_size, n_outputs)\n",
    "    x = x.repeat(n_outputs, 1, 1, 1)\n",
    "    x = Variable(x, requires_grad=True)\n",
    "    # needed so that we can get gradient of output w.r.t input\n",
    "    y = net(x)\n",
    "    x_grad = torch.autograd.grad(y, x, grad_outputs=bp_mat, create_graph=for_loss)[0]\n",
    "    # get sum of squared values of the gradient values \n",
    "    j = x_grad.pow(2).sum() / batch_size\n",
    "    return j"
   ]
  },
  {
   "cell_type": "markdown",
   "metadata": {},
   "source": [
    "### Define loss function\n"
   ]
  },
  {
   "cell_type": "code",
   "execution_count": null,
   "metadata": {},
   "outputs": [],
   "source": [
    "def my_loss(output, labels, alpha_wd=0, alpha_jr=0, x=None, bp_mat=None, alpha_ir=0, ig=igs.simple_gradients):\n",
    "    \"\"\"Adds terms for L2-regularization and the norm of the input-output \n",
    "    Jacobian to the standard cross-entropy loss function. Check https://arxiv.org/abs/1908.02729\n",
    "    for alpha_wd, alpha_jr suggestions.\n",
    "    \"\"\"\n",
    "    # standard cross-entropy loss base\n",
    "    loss = F.cross_entropy(output, labels)\n",
    "    \n",
    "    # add l2 regularization to loss \n",
    "    if alpha_wd != 0:\n",
    "        l2 = 0\n",
    "        for p in net.parameters():\n",
    "            l2 += p.pow(2).sum()\n",
    "        loss = loss + alpha_wd * l2\n",
    "    \n",
    "    # add input-output jacobian regularization formulation\n",
    "    if alpha_jr != 0:\n",
    "        n_outputs = output.shape[1]\n",
    "        j = avg_norm_jacobian(x, n_outputs, bp_mat)\n",
    "        loss = loss + (alpha_jr / 2) * j\n",
    "        # needed so gradients don't accumulate in leaf variables when calling loss.backward in train function\n",
    "        optimizer.zero_grad()\n",
    "    \n",
    "    # add interpretation regularization\n",
    "    if alpha_ir != 0:\n",
    "        ix = ig(net, x, labels)\n",
    "        x_ = aus.perturb_randomly(x)\n",
    "        ix_ = ig(net, x_, labels)\n",
    "        diff = torch.abs(ix-ix_)\n",
    "        loss = loss + alpha_ir * (torch.norm(diff))\n",
    "        \n",
    "    return loss"
   ]
  },
  {
   "cell_type": "markdown",
   "metadata": {},
   "source": [
    "### Define train and test functions "
   ]
  },
  {
   "cell_type": "code",
   "execution_count": null,
   "metadata": {},
   "outputs": [],
   "source": [
    "def train(alpha_wd, alpha_jr, adversary=None):\n",
    "    net.train()\n",
    "    \n",
    "    for batch_idx, (samples, labels) in enumerate(train_loader):\n",
    "        # sends to GPU, i.e. essentially converts from torch.FloatTensor to torch.cuda.FloatTensor\n",
    "        samples, labels = samples.to(device), labels.to(device)\n",
    "        \n",
    "        # expand dataset with adversarial examples if adversary specified\n",
    "        if adversary != None:\n",
    "            adv_samples, adv_labels = aus.generate_adv_exs(samples, labels, adversary)\n",
    "            samples, labels = torch.cat([samples, adv_samples], 0), torch.cat([labels, adv_labels], 0)\n",
    "                \n",
    "        optimizer.zero_grad()\n",
    "        \n",
    "        output = net(samples)\n",
    "        \n",
    "        loss = my_loss(output, labels, alpha_wd=alpha_wd, alpha_jr=alpha_jr, x=samples, bp_mat=tr)\n",
    "        loss.backward()\n",
    "        \n",
    "        optimizer.step()\n",
    "        \n",
    "        if batch_idx % log_interval == 0:\n",
    "            j = avg_norm_jacobian(samples, output.shape[1], tr, for_loss=False)\n",
    "            print(f'\\tLoss: {loss.item():.6f} Average norm of Jacobian: {j:6f}')\n",
    "            train_losses.append(loss.item())\n",
    "            jacobian_norms.append(j)"
   ]
  },
  {
   "cell_type": "code",
   "execution_count": null,
   "metadata": {},
   "outputs": [],
   "source": [
    "def test(alpha_wd, alpha_jr):\n",
    "    net.eval()\n",
    "    test_loss = 0\n",
    "    correct = 0\n",
    "    \n",
    "    for samples, labels in test_loader:\n",
    "        samples, labels = samples.to(device), labels.to(device)\n",
    "        output = net(samples)\n",
    "        test_loss += my_loss(output, labels, alpha_wd=alpha_wd, alpha_jr=alpha_jr, x=samples, bp_mat=te).item()\n",
    "        # output is a tensor, .data retrieves its data, max returns the index of the highest valued element\n",
    "        preds = output.data.max(1, keepdim=True)[1]\n",
    "        correct += preds.eq(labels.data.view_as(preds)).sum().item()\n",
    "                \n",
    "    test_loss /= len(test_loader.dataset)\n",
    "    test_accuracy = 100. * float(correct / len(test_loader.dataset))\n",
    "    \n",
    "    print(f'\\tTest set accuracy: ({test_accuracy:.2f}%)')\n",
    "    \n",
    "    test_accuracies.append(test_accuracy)\n",
    "    test_losses.append(test_loss)"
   ]
  },
  {
   "cell_type": "markdown",
   "metadata": {},
   "source": [
    "### Training"
   ]
  },
  {
   "cell_type": "code",
   "execution_count": null,
   "metadata": {},
   "outputs": [],
   "source": [
    "# training details\n",
    "n_epochs = 30\n",
    "log_interval = 200\n",
    "training_round = 2\n",
    "torch.manual_seed(training_round)\n",
    "\n",
    "# varying values for certain hyperparameters to produce models with varying degrees of robustness\n",
    "epsilons = [.1, .2, .3, .4, .5, .6]\n",
    "alpha_wds = [0, .0000001, .000001, .00001, .0001, .001, .01]\n",
    "alpha_jrs = [.0000001, .000001, .00001, .0001, .001, .01]\n",
    "\n",
    "# dictionary to record each model's training/testing stats\n",
    "performance = {}\n",
    "\n",
    "for hyp_param_to_vary in [alpha_jrs, epsilons, alpha_wds]:\n",
    "    epsilon = 0\n",
    "    alpha_wd = 0\n",
    "    alpha_jr = 0\n",
    "    \n",
    "    for value in hyp_param_to_vary:        \n",
    "        # change hyperparameter that is being varied\n",
    "        if hyp_param_to_vary == epsilons:\n",
    "            epsilon = value\n",
    "            tr = bp_matrix(tr_batch_size*2, 10)\n",
    "            te = bp_matrix(te_batch_size*2, 10)\n",
    "        elif hyp_param_to_vary == alpha_wds:\n",
    "            alpha_wd = value\n",
    "            tr = bp_matrix(tr_batch_size, 10)\n",
    "            te = bp_matrix(te_batch_size, 10)\n",
    "        else:\n",
    "            alpha_jr = value\n",
    "            tr = bp_matrix(tr_batch_size, 10)\n",
    "            te = bp_matrix(te_batch_size, 10)\n",
    "        \n",
    "        print(f'\\nBeginning training for model: trained_models/training_round_{training_round}/ep{epsilon}_wd{alpha_wd}_jr{alpha_jr}_{training_round}')\n",
    "\n",
    "        # instantiate model and optimizer\n",
    "        learning_rate = 0.01\n",
    "        momentum = 0.9\n",
    "        net = LeNet()\n",
    "        optimizer = optim.SGD(net.parameters(), lr=learning_rate, momentum=momentum)\n",
    "        lr_decayer = StepLR(optimizer, step_size=10, gamma=0.1)\n",
    "\n",
    "        # make model CUDA enabled and define GPU/device to use\n",
    "        net.cuda()\n",
    "        \n",
    "        # define adversary to train against if needed\n",
    "        FGSM = None\n",
    "        if epsilon != 0:\n",
    "            FGSM = GradientSignAttack(predict=net, loss_fn=F.cross_entropy, \n",
    "                            eps=epsilon, clip_min=-3., clip_max=3., targeted=False)\n",
    "\n",
    "        # for tracking training progress\n",
    "        train_losses = []\n",
    "        test_losses = []\n",
    "        test_accuracies = []\n",
    "        jacobian_norms = []\n",
    "\n",
    "        for epoch in range(1, n_epochs + 1):\n",
    "            print(f'Epoch #{epoch}')\n",
    "            train(alpha_wd=alpha_wd, alpha_jr=alpha_jr, adversary=FGSM)\n",
    "            test(alpha_wd=alpha_wd, alpha_jr=alpha_jr)\n",
    "            lr_decayer.step()\n",
    "        \n",
    "        performance[f'ep{epsilon}_wd{alpha_wd}_jr{alpha_jr}_{training_round}'] = (train_losses, test_losses, test_accuracies, jacobian_norms)\n",
    "        torch.save(net.state_dict(), f'trained_models/training_round_{training_round}/ep{epsilon}_wd{alpha_wd}_jr{alpha_jr}_{training_round}')\n",
    "        "
   ]
  },
  {
   "cell_type": "markdown",
   "metadata": {},
   "source": [
    "### Write performance dictionary to text file"
   ]
  },
  {
   "cell_type": "code",
   "execution_count": null,
   "metadata": {},
   "outputs": [],
   "source": [
    "f = open(f'trained_models/training_round_{training_round}/training_round_{training_round}_performance.txt','w')\n",
    "f.write(str(performance))\n",
    "f.close()\n",
    "\n",
    "# to read dictionary from file:\n",
    "# f = open(f'models/training_round_{training_round}_performance.txt','r')\n",
    "# d = eval(f.read())"
   ]
  }
 ],
 "metadata": {
  "kernelspec": {
   "display_name": "Python 3",
   "language": "python",
   "name": "python3"
  },
  "language_info": {
   "codemirror_mode": {
    "name": "ipython",
    "version": 3
   },
   "file_extension": ".py",
   "mimetype": "text/x-python",
   "name": "python",
   "nbconvert_exporter": "python",
   "pygments_lexer": "ipython3",
   "version": "3.7.4"
  }
 },
 "nbformat": 4,
 "nbformat_minor": 4
}

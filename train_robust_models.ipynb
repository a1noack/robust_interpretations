{
 "cells": [
  {
   "cell_type": "code",
   "execution_count": 11,
   "metadata": {},
   "outputs": [],
   "source": [
    "\"\"\"Code assumes the ability to train using a GPU with CUDA.\n",
    "\"\"\"\n",
    "import torch\n",
    "import torchvision\n",
    "import torch.nn as nn\n",
    "import torch.nn.functional as F\n",
    "import torch.optim as optim\n",
    "from torch.autograd import Variable\n",
    "from torch.optim.lr_scheduler import StepLR\n",
    "from advertorch.attacks import GradientSignAttack, CarliniWagnerL2Attack, PGDAttack\n",
    "import matplotlib.pyplot as plt\n",
    "import gc\n",
    "\n",
    "# makes default tensor a CUDA tensor so GPU can be used\n",
    "torch.set_default_tensor_type('torch.cuda.FloatTensor')"
   ]
  },
  {
   "cell_type": "markdown",
   "metadata": {},
   "source": [
    "### Define data loaders and data preprocessing steps"
   ]
  },
  {
   "cell_type": "code",
   "execution_count": 12,
   "metadata": {},
   "outputs": [],
   "source": [
    "data_preprocess = torchvision.transforms.Compose([\n",
    "                        torchvision.transforms.ToTensor(),\n",
    "                        torchvision.transforms.Normalize((0.1307,), (0.3081,))])\n",
    "# the mean of mnist pixel data is .1307 and the stddev is .3081\n",
    "\n",
    "train_loader = torch.utils.data.DataLoader(\n",
    "                    torchvision.datasets.MNIST('./data', train=True, download=True,\n",
    "                         transform=data_preprocess), \n",
    "                    batch_size=64, \n",
    "                    shuffle=False)\n",
    "\n",
    "test_loader = torch.utils.data.DataLoader(\n",
    "                    torchvision.datasets.MNIST('./data', train=False, download=True,\n",
    "                         transform=data_preprocess), \n",
    "                    batch_size=50, \n",
    "                    shuffle=False)"
   ]
  },
  {
   "cell_type": "markdown",
   "metadata": {},
   "source": [
    "### Define the model"
   ]
  },
  {
   "cell_type": "code",
   "execution_count": 13,
   "metadata": {},
   "outputs": [],
   "source": [
    "class LeNet(nn.Module):\n",
    "    \"\"\"MNIST-modified LeNet-5 model.\n",
    "    \"\"\"\n",
    "    def __init__(self):\n",
    "        super(LeNet, self).__init__()\n",
    "        self.conv1 = nn.Conv2d(1, 6, kernel_size=5, stride=1, padding=2)\n",
    "        self.pool1 = nn.MaxPool2d(kernel_size=2)\n",
    "        self.conv2 = nn.Conv2d(6, 16, kernel_size=5, stride=1, padding=0)\n",
    "        self.pool2 = nn.MaxPool2d(kernel_size=2)\n",
    "        self.fc1 = nn.Linear(16*5*5, 120)\n",
    "        self.fc1_drop = nn.Dropout(p=.50)\n",
    "        self.fc2 = nn.Linear(120, 84)\n",
    "        self.fc2_drop = nn.Dropout(p=.50)\n",
    "        self.fc3 = nn.Linear(84,10)\n",
    "\n",
    "    def forward(self, x):\n",
    "        x = self.pool1(F.relu(self.conv1(x)))\n",
    "        x = self.pool2(F.relu(self.conv2(x)))\n",
    "        x = x.view(x.shape[0], -1)\n",
    "        x = self.fc1_drop(F.relu(self.fc1(x)))\n",
    "        x = self.fc2_drop(F.relu(self.fc2(x)))\n",
    "        x = self.fc3(x)\n",
    "        return F.log_softmax(x, dim=1)"
   ]
  },
  {
   "cell_type": "markdown",
   "metadata": {},
   "source": [
    "### Define adversarial example generation function"
   ]
  },
  {
   "cell_type": "code",
   "execution_count": 14,
   "metadata": {},
   "outputs": [],
   "source": [
    "def generate_adversarial_samples(og_samples, true_labels, adversary, num_per_samp=1):\n",
    "    \"\"\"Create num_per_samp adversarial examples for each sample in\n",
    "    og_samples. Return the generated samples along with corresponding \n",
    "    adv_labels, a tensor containing the adversarial examples' labels.\n",
    "    \"\"\"\n",
    "    adv_samples = []\n",
    "    for i in range(num_per_samp):\n",
    "        adv_samples.append(adversary.perturb(og_samples, true_labels))\n",
    "    adv_samples = torch.cat(adv_samples, 0)\n",
    "    adv_labels = torch.cat([true_labels]*num_per_samp, 0)\n",
    "    return adv_samples, adv_labels"
   ]
  },
  {
   "cell_type": "markdown",
   "metadata": {},
   "source": [
    "### Define my loss function\n"
   ]
  },
  {
   "cell_type": "code",
   "execution_count": 15,
   "metadata": {},
   "outputs": [],
   "source": [
    "def my_loss(output, labels, alpha_wd=0, alpha_jr=0, x=None, bp_mat=None):\n",
    "    \"\"\"Adds terms for L2-regularization and the norm of the input-output \n",
    "    Jacobian to the standard cross-entropy loss function. Check https://arxiv.org/abs/1908.02729\n",
    "    for alpha_wd, alpha_jr suggestions.\n",
    "    \"\"\"\n",
    "    # standard cross-entropy loss base\n",
    "    loss = F.cross_entropy(output, labels)\n",
    "    \n",
    "    # add l2 regularization to loss \n",
    "    if alpha_wd != 0:\n",
    "        l2 = 0\n",
    "        for p in lenet.parameters():\n",
    "            l2 += p.pow(2).sum()\n",
    "        loss = loss + alpha_wd*l2\n",
    "    \n",
    "    # add input-output jacobian regularization formulation\n",
    "    if alpha_jr != 0:\n",
    "        n_outputs = output.shape[1]\n",
    "        batch_size = x.shape[0]\n",
    "        # needed because some edge-case batches are not standard size\n",
    "        if bp_mat.shape[0]/n_outputs != batch_size:     \n",
    "            bp_mat = bp_matrix(batch_size, n_outputs)\n",
    "        x = x.repeat(n_outputs, 1, 1, 1)\n",
    "        # needed so that we can get gradient of output w.r.t input\n",
    "        x = Variable(x, requires_grad=True)\n",
    "        y = lenet(x)\n",
    "        x_grad = torch.autograd.grad(y, x, grad_outputs=bp_mat, create_graph=True)[0]\n",
    "        # get sum of squared values of the gradient values \n",
    "        j = x_grad.pow(2).sum() / batch_size\n",
    "        loss = loss + alpha_jr*j\n",
    "        # needed so gradients don't accumulate in leaf variables when calling loss.backward in train function\n",
    "        optimizer.zero_grad()\n",
    "\n",
    "    return loss"
   ]
  },
  {
   "cell_type": "markdown",
   "metadata": {},
   "source": [
    "### Functions for Jacobian regularization"
   ]
  },
  {
   "cell_type": "code",
   "execution_count": 16,
   "metadata": {},
   "outputs": [],
   "source": [
    "def avg_norm_jacobian(x, net, n_outputs, bp_mat):\n",
    "    \"\"\"Returns squared frobenius norm of the input-output Jacobian averaged \n",
    "    over the entire batch of inputs in x.\n",
    "    \"\"\"\n",
    "    batch_size = x.shape[0]\n",
    "    x = x.repeat(n_outputs, 1, 1, 1)\n",
    "    x = Variable(x, requires_grad=True)\n",
    "    # needed so that we can get gradient of output w.r.t input\n",
    "    y = net(x)\n",
    "    x_grad = torch.autograd.grad(y, x, grad_outputs=bp_mat)[0]\n",
    "    j = x_grad.pow(2).sum() / batch_size\n",
    "    return j"
   ]
  },
  {
   "cell_type": "code",
   "execution_count": 17,
   "metadata": {},
   "outputs": [],
   "source": [
    "def bp_matrix(batch_size, n_outputs):\n",
    "    \"\"\"Creates matrix that is used to calculate Jacobian for multiple input \n",
    "    samples at once.\n",
    "    \"\"\"\n",
    "    idx = torch.arange(n_outputs).reshape(n_outputs,1).repeat(1,batch_size).reshape(batch_size*n_outputs,)\n",
    "    return torch.zeros(len(idx), n_outputs).scatter_(1, idx.unsqueeze(1), 1.)"
   ]
  },
  {
   "cell_type": "markdown",
   "metadata": {},
   "source": [
    "### Define train and test functions "
   ]
  },
  {
   "cell_type": "code",
   "execution_count": 18,
   "metadata": {},
   "outputs": [],
   "source": [
    "def train(alpha_wd, alpha_jr, adversary=None):\n",
    "    lenet.train()\n",
    "    \n",
    "    for batch_idx, (samples, labels) in enumerate(train_loader):\n",
    "        # sends to GPU, i.e. essentially converts from torch.FloatTensor to torch.cuda.FloatTensor\n",
    "        samples, labels = samples.to(device), labels.to(device)\n",
    "        \n",
    "        # expand dataset with adversarial examples if adversary specified\n",
    "        if adversary != None:\n",
    "            adv_samples, adv_labels = generate_adversarial_samples(samples, labels, adversary)  \n",
    "            samples, labels = torch.cat([samples, adv_samples], 0), torch.cat([labels, adv_labels], 0)\n",
    "                \n",
    "        optimizer.zero_grad()\n",
    "        \n",
    "        output = lenet(samples)\n",
    "        \n",
    "        loss = my_loss(output, labels, alpha_wd=alpha_wd, alpha_jr=alpha_jr, x=samples, bp_mat=tr)\n",
    "        loss.backward()\n",
    "        \n",
    "        optimizer.step()\n",
    "        \n",
    "        if batch_idx % log_interval == 0:\n",
    "            j = avg_norm_jacobian(samples, lenet, output.shape[1], bp_mat=tr)\n",
    "            print(f'\\tLoss: {loss.item():.6f} Average norm of Jacobian: {j:6f}')\n",
    "            train_losses.append(loss.item())"
   ]
  },
  {
   "cell_type": "code",
   "execution_count": 19,
   "metadata": {},
   "outputs": [],
   "source": [
    "def test(alpha_wd, alpha_jr):\n",
    "    lenet.eval()\n",
    "    test_loss = 0\n",
    "    correct = 0\n",
    "    \n",
    "    for samples, labels in test_loader:\n",
    "        samples, labels = samples.to(device), labels.to(device)\n",
    "        output = lenet(samples)\n",
    "        test_loss += my_loss(output, labels, alpha_wd=alpha_wd, alpha_jr=alpha_jr, x=samples, bp_mat=te).item()\n",
    "        # output is a tensor, .data retrieves its data, max returns the index of the highest valued element\n",
    "        preds = output.data.max(1, keepdim=True)[1]\n",
    "        correct += preds.eq(labels.data.view_as(preds)).sum().item()\n",
    "                \n",
    "    test_loss /= len(test_loader.dataset)\n",
    "    test_accuracy = 100. * float(correct / len(test_loader.dataset))\n",
    "    \n",
    "    print(f'\\tTest set accuracy: ({test_accuracy:.2f}%)')\n",
    "    \n",
    "    test_accuracies.append(test_accuracy)\n",
    "    test_losses.append(test_loss)"
   ]
  },
  {
   "cell_type": "markdown",
   "metadata": {},
   "source": [
    "### Training"
   ]
  },
  {
   "cell_type": "code",
   "execution_count": null,
   "metadata": {},
   "outputs": [
    {
     "name": "stdout",
     "output_type": "stream",
     "text": [
      "\n",
      "Beginning training for model: models/ep0_wd0_jr1e-08_1\n",
      "Epoch #1\n",
      "\tLoss: 2.300131 Average norm of Jacobian: 0.021019\n",
      "\tLoss: 0.470538 Average norm of Jacobian: 11.640409\n",
      "\tLoss: 0.161731 Average norm of Jacobian: 33.318787\n",
      "\tLoss: 0.271548 Average norm of Jacobian: 37.806591\n",
      "\tLoss: 0.661820 Average norm of Jacobian: 48.845299\n",
      "\tTest set accuracy: (96.68%)\n",
      "Epoch #2\n",
      "\tLoss: 0.152131 Average norm of Jacobian: 69.322281\n",
      "\tLoss: 0.089360 Average norm of Jacobian: 58.092106\n"
     ]
    }
   ],
   "source": [
    "# training details\n",
    "torch.manual_seed(1)\n",
    "n_epochs = 30\n",
    "log_interval = 200\n",
    "training_round = 1\n",
    "\n",
    "# varying values for certain hyperparameters to produce models with varying degrees of robustness\n",
    "epsilons = [0, .1, .2, .3, .4, .5, .6, .7]\n",
    "alpha_wds = [0.00005, .000001, .000005, .00001, .00005, .0001, .0005, .001]\n",
    "alpha_jrs = [.00000001, .0000001, .000001, .00001, .0001, .001, .01, .1]\n",
    "\n",
    "# these needed so that calculating jacobian across a batch of inputs is parallelizable\n",
    "tr = bp_matrix(64, 10)\n",
    "te = bp_matrix(50, 10)\n",
    "\n",
    "# dictionary to record each model's training/testing stats\n",
    "performance = {}\n",
    "\n",
    "for hyp_param_to_vary in [alpha_jrs, epsilons, alpha_wds]:\n",
    "    epsilon = 0\n",
    "    alpha_wd = 0\n",
    "    alpha_jr = 0\n",
    "    \n",
    "    for value in hyp_param_to_vary:        \n",
    "        # change hyperparameter that is being varied\n",
    "        if hyp_param_to_vary == epsilons:\n",
    "            epsilon = value\n",
    "        elif hyp_param_to_vary == alpha_wds:\n",
    "            alpha_wd = value\n",
    "        else:\n",
    "            alpha_jr = value\n",
    "        \n",
    "        print(f'\\nBeginning training for model: models/ep{epsilon}_wd{alpha_wd}_jr{alpha_jr}_{training_round}')\n",
    "\n",
    "        # instantiate model and optimizer\n",
    "        learning_rate = 0.01\n",
    "        momentum = 0.9\n",
    "        lenet = LeNet()\n",
    "        optimizer = optim.SGD(lenet.parameters(), lr=learning_rate, momentum=momentum)\n",
    "        lr_decayer = StepLR(optimizer, step_size=10, gamma=0.1)\n",
    "\n",
    "        # make model CUDA enabled and define GPU/device to use\n",
    "        lenet.cuda()\n",
    "        device = 0\n",
    "        \n",
    "        # define adversary to train against if needed\n",
    "        FGSM = None\n",
    "        if epsilon != 0:\n",
    "            FGSM = GradientSignAttack(predict=lenet, loss_fn=F.cross_entropy, \n",
    "                            eps=epsilon, clip_min=-3., clip_max=3., targeted=False)\n",
    "\n",
    "        # for tracking training progress\n",
    "        train_losses = []\n",
    "        test_losses = []\n",
    "        test_accuracies = []\n",
    "\n",
    "        for epoch in range(1, n_epochs + 1):\n",
    "            print(f'Epoch #{epoch}')\n",
    "            train(alpha_wd=alpha_wd, alpha_jr=alpha_jr, adversary=FGSM)\n",
    "            test(alpha_wd=alpha_wd, alpha_jr=alpha_jr)\n",
    "            lr_decayer.step()\n",
    "        \n",
    "        performance[f'ep{epsilon}_wd{alpha_wd}_jr{alpha_jr}'] = (train_losses, test_losses, test_accuracies)\n",
    "        torch.save(lenet.state_dict(), f'models/ep{epsilon}_wd{alpha_wd}_jr{alpha_jr}')"
   ]
  },
  {
   "cell_type": "markdown",
   "metadata": {},
   "source": [
    "### Write performance dictionary to text file"
   ]
  },
  {
   "cell_type": "code",
   "execution_count": null,
   "metadata": {},
   "outputs": [],
   "source": [
    "f = open(f'models/training_round_{training_round}_performance.txt','w')\n",
    "f.write(str(performance))\n",
    "f.close()\n",
    "\n",
    "# to read dictionary from file:\n",
    "# f = open(f'models/training_round_{training_round}_performance.txt','r')\n",
    "# d = eval(f.read())"
   ]
  }
 ],
 "metadata": {
  "kernelspec": {
   "display_name": "Python 3",
   "language": "python",
   "name": "python3"
  },
  "language_info": {
   "codemirror_mode": {
    "name": "ipython",
    "version": 3
   },
   "file_extension": ".py",
   "mimetype": "text/x-python",
   "name": "python",
   "nbconvert_exporter": "python",
   "pygments_lexer": "ipython3",
   "version": "3.7.4"
  }
 },
 "nbformat": 4,
 "nbformat_minor": 4
}

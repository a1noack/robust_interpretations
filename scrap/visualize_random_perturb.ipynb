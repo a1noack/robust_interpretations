{
 "cells": [
  {
   "cell_type": "code",
   "execution_count": 1,
   "metadata": {},
   "outputs": [],
   "source": [
    "import sys\n",
    "sys.path.append(\"..\")\n",
    "import torch\n",
    "import matplotlib.pyplot as plt\n",
    "import matplotlib.gridspec as gridspec\n",
    "import utils.interp_generators as igs\n",
    "import utils.adv_ex_utils as aus\n",
    "import utils.utils as utils\n",
    "from utils.models import LeNet, DDNet, SimpleCNN\n",
    "from utils.data_loaders import DataLoader\n",
    "\n",
    "# makes default tensor a CUDA tensor so GPU can be used\n",
    "device = torch.device(2 if torch.cuda.is_available() else 'cpu')\n",
    "if device != 'cpu':\n",
    "    torch.set_default_tensor_type('torch.cuda.FloatTensor')\n",
    "torch.cuda.set_device(device)"
   ]
  },
  {
   "cell_type": "code",
   "execution_count": 2,
   "metadata": {},
   "outputs": [],
   "source": [
    "dataset = 'MNIST'\n",
    "\n",
    "if dataset == 'MNIST':\n",
    "    net = LeNet()\n",
    "    net2 = SimpleCNN()\n",
    "elif dataset == 'CIFAR-10':\n",
    "    net = DDNet()\n",
    "\n",
    "# net_name = f'../trained_models/MNIST/training_round_{2}/ep{0}_wd{0}_jr{0}_{2}'\n",
    "# net_name = f'../trained_models/CIFAR-10/tests/jr{0}_ir1{.00001}_ir2{.000001}_scale{.1}'\n",
    "# net_name = f'../trained_models/CIFAR-10/training_round_1/ep0_wd0_jr0.01_1'\n",
    "# net_name = f'../trained_models/CIFAR-10/training_round_1/ir1{.01}_ir2{0}_scale{.1}'\n",
    "net_name = f'../trained_models/MNIST/interp_generators/lenet_pgd_eps1.5_niter40_epsiter.05_ord2_epochs85'\n",
    "net2_name = f'../trained_models/MNIST/interp_generators/simplecnn_pgd_eps1.5_niter40_epsiter.05_ord2_epochs45'\n",
    "\n",
    "net.load_state_dict(torch.load(net_name))\n",
    "net2.load_state_dict(torch.load(net2_name))\n",
    "\n",
    "# put model in evaluation mode. i.e. turn off dropout layers, etc.\n",
    "net.eval()\n",
    "net2.eval()\n",
    "\n",
    "# get data\n",
    "dl = DataLoader(dataset=dataset, tr_batch_size=1, te_batch_size=1, path='../data', augment=False)\n",
    "test_loader = dl.test_loader\n",
    "train_loader = dl.train_loader"
   ]
  },
  {
   "cell_type": "markdown",
   "metadata": {},
   "source": [
    "### Inspect effect of randomly perturbing a sample"
   ]
  },
  {
   "cell_type": "code",
   "execution_count": 3,
   "metadata": {},
   "outputs": [
    {
     "name": "stdout",
     "output_type": "stream",
     "text": [
      "max value: 1.0, min value: 0.0\n",
      "max value: 1.0, min value: 0.0\n",
      "net(sample1) = 8, net(sample2) = 8\n"
     ]
    },
    {
     "data": {
      "image/png": "[encoded data removed]",
      "text/plain": [
       "<Figure size 504x216 with 4 Axes>"
      ]
     },
     "metadata": {
      "needs_background": "light"
     },
     "output_type": "display_data"
    }
   ],
   "source": [
    "sample1,label1 = next(iter(train_loader))\n",
    "sample1,label1 = sample1.to(device),label1.to(device)\n",
    "# scale of .15 seems to be a good value for CIFAR-10\n",
    "sample2 = aus.perturb_randomly(sample1, scale=.15, min=0., max=1.)\n",
    "\n",
    "if dataset == 'CIFAR-10':\n",
    "    sample1,sample2 = utils.rescale(sample1), utils.rescale(sample2)\n",
    "\n",
    "print(f'max value: {sample1.max().item()}, min value: {sample1.min().item()}')\n",
    "print(f'max value: {sample2.max().item()}, min value: {sample2.min().item()}')\n",
    "print(f'net(sample1) = {torch.argmax(net(sample1))}, net(sample2) = {torch.argmax(net(sample2))}')\n",
    "\n",
    "sample1,sample2 = sample1.squeeze(),sample2.squeeze()\n",
    "\n",
    "if dataset == 'CIFAR-10':\n",
    "    sample1,sample2 = sample1.permute(1,2,0), sample2.permute(1,2,0)\n",
    "\n",
    "fig = plt.figure(figsize=(7,3), constrained_layout=True)\n",
    "spec = gridspec.GridSpec(ncols=2, nrows=1, figure=fig)\n",
    "\n",
    "ax1 = fig.add_subplot(spec[0,0])\n",
    "ax1.title.set_text('sample1')\n",
    "plt.imshow(sample1.cpu().numpy(), cmap='binary')\n",
    "plt.colorbar()\n",
    "\n",
    "ax2 = fig.add_subplot(spec[0,1])\n",
    "ax2.title.set_text('sample2')\n",
    "plt.imshow(sample2.cpu().numpy(), cmap='binary')\n",
    "plt.colorbar()\n",
    "\n",
    "plt.show()"
   ]
  }
 ],
 "metadata": {
  "kernelspec": {
   "display_name": "Python 3",
   "language": "python",
   "name": "python3"
  },
  "language_info": {
   "codemirror_mode": {
    "name": "ipython",
    "version": 3
   },
   "file_extension": ".py",
   "mimetype": "text/x-python",
   "name": "python",
   "nbconvert_exporter": "python",
   "pygments_lexer": "ipython3",
   "version": "3.7.4"
  }
 },
 "nbformat": 4,
 "nbformat_minor": 4
}

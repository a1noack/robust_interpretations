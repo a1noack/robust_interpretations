{
 "cells": [
  {
   "cell_type": "code",
   "execution_count": 1,
   "metadata": {},
   "outputs": [],
   "source": [
    "import torch"
   ]
  },
  {
   "cell_type": "code",
   "execution_count": 11,
   "metadata": {},
   "outputs": [
    {
     "name": "stdout",
     "output_type": "stream",
     "text": [
      "a = 1.0, b = 2.0, c = 2.0, dc/da = 4.0, d = 10.0, dd/da = 2.0\n"
     ]
    }
   ],
   "source": [
    "a = torch.tensor(1., requires_grad=True)\n",
    "b = torch.tensor(2.)\n",
    "c = a * a * b\n",
    "dc_da = torch.autograd.grad(c, a)[0]\n",
    "d = (a + dc_da) * b\n",
    "dd_da = torch.autograd.grad(d, a)[0]\n",
    "\n",
    "print(f'a = {a}, b = {b}, c = {c}, dc/da = {dc_da}, d = {d}, dd/da = {dd_da}')"
   ]
  },
  {
   "cell_type": "markdown",
   "metadata": {},
   "source": [
    "dd/da should be 10, but it is 2. This is because torch.autograd.grad by default does not create a node in the graph that can be backpropagated through. In this example, the autograd engine assumes that dc/da is a constant."
   ]
  },
  {
   "cell_type": "code",
   "execution_count": 12,
   "metadata": {},
   "outputs": [
    {
     "name": "stdout",
     "output_type": "stream",
     "text": [
      "a = 1.0, b = 2.0, c = 2.0, dc/da = 4.0, d = 10.0, dd/da = 10.0\n"
     ]
    }
   ],
   "source": [
    "a = torch.tensor(1., requires_grad=True)\n",
    "b = torch.tensor(2.)\n",
    "c = a * a * b\n",
    "dc_da = torch.autograd.grad(c, a, create_graph=True)[0]\n",
    "d = (a + dc_da) * b\n",
    "dd_da = torch.autograd.grad(d, a)[0]\n",
    "\n",
    "print(f'a = {a}, b = {b}, c = {c}, dc/da = {dc_da}, d = {d}, dd/da = {dd_da}')"
   ]
  },
  {
   "cell_type": "markdown",
   "metadata": {},
   "source": [
    "To force pytorch to refrain from treating dc/da as a constant, we must specify create_graph=True. If using the torch.Tensor.backward function to compute gradients, you must also specify create_graph=True."
   ]
  }
 ],
 "metadata": {
  "kernelspec": {
   "display_name": "Python 3",
   "language": "python",
   "name": "python3"
  },
  "language_info": {
   "codemirror_mode": {
    "name": "ipython",
    "version": 3
   },
   "file_extension": ".py",
   "mimetype": "text/x-python",
   "name": "python",
   "nbconvert_exporter": "python",
   "pygments_lexer": "ipython3",
   "version": "3.7.4"
  }
 },
 "nbformat": 4,
 "nbformat_minor": 4
}

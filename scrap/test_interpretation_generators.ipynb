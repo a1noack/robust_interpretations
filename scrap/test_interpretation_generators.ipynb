{
 "cells": [
  {
   "cell_type": "code",
   "execution_count": 18,
   "metadata": {},
   "outputs": [],
   "source": [
    "import sys\n",
    "sys.path.append(\"..\")\n",
    "import torch\n",
    "import torchvision\n",
    "import torchvision.datasets as datasets\n",
    "import matplotlib.pyplot as plt\n",
    "import matplotlib.gridspec as gridspec\n",
    "import utils.interp_generators as igs\n",
    "import utils.adv_ex_utils as aus\n",
    "import utils.utils as utils\n",
    "from utils.models import LeNet, DDNet\n",
    "from utils.data_loaders import DataLoader\n",
    "\n",
    "# makes default tensor a CUDA tensor so GPU can be used\n",
    "device = torch.device(2 if torch.cuda.is_available() else 'cpu')\n",
    "if device != 'cpu':\n",
    "    torch.set_default_tensor_type('torch.cuda.FloatTensor')\n",
    "torch.cuda.set_device(device)"
   ]
  },
  {
   "cell_type": "code",
   "execution_count": 19,
   "metadata": {},
   "outputs": [
    {
     "name": "stdout",
     "output_type": "stream",
     "text": [
      "Files already downloaded and verified\n",
      "Files already downloaded and verified\n"
     ]
    }
   ],
   "source": [
    "net = DDNet(activation=torch.nn.functional.relu)\n",
    "\n",
    "training_round = 2\n",
    "# net_name = f'../trained_models/MNIST/training_round_{training_round}/ep{0}_wd{0}_jr{0}_{training_round}'\n",
    "net_name = f'../trained_models/CIFAR-10/tests/jr{0}_ir1{.00001}_ir2{.000001}_scale{.1}'\n",
    "net_name = f'../trained_models/CIFAR-10/training_round_1/ep0_wd0_jr0.01_1'\n",
    "\n",
    "net.load_state_dict(torch.load(net_name))\n",
    "\n",
    "# put model in evaluation mode. i.e. turn off dropout layers, etc.\n",
    "net.eval()\n",
    "\n",
    "# get data\n",
    "dl = DataLoader(dataset='CIFAR-10', path='../data')\n",
    "test_loader = dl.test_loader\n",
    "train_loader = dl.train_loader"
   ]
  },
  {
   "cell_type": "markdown",
   "metadata": {},
   "source": [
    "### Test for repeatability of gradient methods\n",
    "On a unregularized network, this loop completes successfully without any nans being found in any of the interpretations generated."
   ]
  },
  {
   "cell_type": "code",
   "execution_count": 10,
   "metadata": {
    "collapsed": true,
    "jupyter": {
     "outputs_hidden": true
    }
   },
   "outputs": [
    {
     "name": "stdout",
     "output_type": "stream",
     "text": [
      "none found on epoch 0\n",
      "none found on epoch 1\n",
      "none found on epoch 2\n",
      "none found on epoch 3\n",
      "none found on epoch 4\n",
      "none found on epoch 5\n",
      "none found on epoch 6\n",
      "none found on epoch 7\n",
      "none found on epoch 8\n",
      "none found on epoch 9\n",
      "none found on epoch 10\n",
      "none found on epoch 11\n",
      "none found on epoch 12\n",
      "none found on epoch 13\n",
      "none found on epoch 14\n",
      "none found on epoch 15\n",
      "none found on epoch 16\n",
      "none found on epoch 17\n",
      "none found on epoch 18\n",
      "none found on epoch 19\n",
      "none found on epoch 20\n",
      "none found on epoch 21\n",
      "none found on epoch 22\n",
      "none found on epoch 23\n",
      "none found on epoch 24\n",
      "none found on epoch 25\n",
      "none found on epoch 26\n",
      "none found on epoch 27\n",
      "none found on epoch 28\n",
      "none found on epoch 29\n",
      "none found on epoch 30\n",
      "none found on epoch 31\n",
      "none found on epoch 32\n",
      "none found on epoch 33\n",
      "none found on epoch 34\n",
      "none found on epoch 35\n",
      "none found on epoch 36\n",
      "none found on epoch 37\n",
      "none found on epoch 38\n",
      "none found on epoch 39\n",
      "none found on epoch 40\n",
      "none found on epoch 41\n",
      "none found on epoch 42\n",
      "none found on epoch 43\n",
      "none found on epoch 44\n",
      "none found on epoch 45\n",
      "none found on epoch 46\n",
      "none found on epoch 47\n",
      "none found on epoch 48\n",
      "none found on epoch 49\n"
     ]
    }
   ],
   "source": [
    "for i in range(50):\n",
    "    for samples, labels in test_loader:\n",
    "        samples,labels = samples.to(device),labels.to(device)\n",
    "        s1 = igs.simple_gradient(net, samples, labels, used=False)\n",
    "        if torch.isnan(s1).any():\n",
    "            print(f'found a nan in simple gradient map')\n",
    "    for samples, labels in train_loader:\n",
    "        samples,labels = samples.to(device),labels.to(device)\n",
    "        s1 = igs.simple_gradient(net, samples, labels, used=False)\n",
    "        if torch.isnan(s1).any():\n",
    "            print(f'found a nan in simple gradient map')\n",
    "    print(f'none found on epoch {i}')"
   ]
  },
  {
   "cell_type": "code",
   "execution_count": 16,
   "metadata": {
    "collapsed": true,
    "jupyter": {
     "outputs_hidden": true
    }
   },
   "outputs": [
    {
     "name": "stdout",
     "output_type": "stream",
     "text": [
      "epoch 0\n",
      "epoch 1\n",
      "epoch 2\n",
      "epoch 3\n",
      "epoch 4\n",
      "epoch 5\n",
      "epoch 6\n",
      "epoch 7\n",
      "epoch 8\n",
      "epoch 9\n",
      "epoch 10\n",
      "epoch 11\n",
      "epoch 12\n",
      "epoch 13\n",
      "epoch 14\n",
      "epoch 15\n",
      "epoch 16\n",
      "epoch 17\n",
      "epoch 18\n",
      "epoch 19\n",
      "epoch 20\n",
      "epoch 21\n",
      "epoch 22\n"
     ]
    },
    {
     "ename": "KeyboardInterrupt",
     "evalue": "",
     "output_type": "error",
     "traceback": [
      "\u001b[0;31m---------------------------------------------------------------------------\u001b[0m",
      "\u001b[0;31mKeyboardInterrupt\u001b[0m                         Traceback (most recent call last)",
      "\u001b[0;32m<ipython-input-16-603ded3f6cd5>\u001b[0m in \u001b[0;36m<module>\u001b[0;34m\u001b[0m\n\u001b[1;32m      5\u001b[0m     \u001b[0;32mfor\u001b[0m \u001b[0msamples\u001b[0m\u001b[0;34m,\u001b[0m \u001b[0mlabels\u001b[0m \u001b[0;32min\u001b[0m \u001b[0mtrain_loader\u001b[0m\u001b[0;34m:\u001b[0m\u001b[0;34m\u001b[0m\u001b[0;34m\u001b[0m\u001b[0m\n\u001b[1;32m      6\u001b[0m         \u001b[0msamples\u001b[0m\u001b[0;34m,\u001b[0m\u001b[0mlabels\u001b[0m \u001b[0;34m=\u001b[0m \u001b[0msamples\u001b[0m\u001b[0;34m.\u001b[0m\u001b[0mto\u001b[0m\u001b[0;34m(\u001b[0m\u001b[0mdevice\u001b[0m\u001b[0;34m)\u001b[0m\u001b[0;34m,\u001b[0m\u001b[0mlabels\u001b[0m\u001b[0;34m.\u001b[0m\u001b[0mto\u001b[0m\u001b[0;34m(\u001b[0m\u001b[0mdevice\u001b[0m\u001b[0;34m)\u001b[0m\u001b[0;34m\u001b[0m\u001b[0;34m\u001b[0m\u001b[0m\n\u001b[0;32m----> 7\u001b[0;31m         \u001b[0mn\u001b[0m\u001b[0;34m,\u001b[0m\u001b[0mix\u001b[0m \u001b[0;34m=\u001b[0m \u001b[0mutils\u001b[0m\u001b[0;34m.\u001b[0m\u001b[0mnorm_diff_interp\u001b[0m\u001b[0;34m(\u001b[0m\u001b[0mnet\u001b[0m\u001b[0;34m,\u001b[0m \u001b[0msamples\u001b[0m\u001b[0;34m,\u001b[0m \u001b[0mlabels\u001b[0m\u001b[0;34m)\u001b[0m\u001b[0;34m\u001b[0m\u001b[0;34m\u001b[0m\u001b[0m\n\u001b[0m\u001b[1;32m      8\u001b[0m     \u001b[0mprint\u001b[0m\u001b[0;34m(\u001b[0m\u001b[0;34mf'epoch {i}'\u001b[0m\u001b[0;34m)\u001b[0m\u001b[0;34m\u001b[0m\u001b[0;34m\u001b[0m\u001b[0m\n",
      "\u001b[0;32m~/robust_interpretations/utils/utils.py\u001b[0m in \u001b[0;36mnorm_diff_interp\u001b[0;34m(net, x, labels, ig)\u001b[0m\n\u001b[1;32m     37\u001b[0m     \"\"\"\n\u001b[1;32m     38\u001b[0m     \u001b[0mx_\u001b[0m \u001b[0;34m=\u001b[0m \u001b[0maus\u001b[0m\u001b[0;34m.\u001b[0m\u001b[0mperturb_randomly\u001b[0m\u001b[0;34m(\u001b[0m\u001b[0mx\u001b[0m\u001b[0;34m,\u001b[0m \u001b[0mscale\u001b[0m\u001b[0;34m=\u001b[0m\u001b[0mscale\u001b[0m\u001b[0;34m)\u001b[0m\u001b[0;34m\u001b[0m\u001b[0;34m\u001b[0m\u001b[0m\n\u001b[0;32m---> 39\u001b[0;31m     \u001b[0mix\u001b[0m \u001b[0;34m=\u001b[0m \u001b[0mig\u001b[0m\u001b[0;34m(\u001b[0m\u001b[0mnet\u001b[0m\u001b[0;34m,\u001b[0m \u001b[0mx\u001b[0m\u001b[0;34m,\u001b[0m \u001b[0mlabels\u001b[0m\u001b[0;34m,\u001b[0m \u001b[0mused\u001b[0m\u001b[0;34m=\u001b[0m\u001b[0;32mFalse\u001b[0m\u001b[0;34m)\u001b[0m\u001b[0;34m\u001b[0m\u001b[0;34m\u001b[0m\u001b[0m\n\u001b[0m\u001b[1;32m     40\u001b[0m     \u001b[0mix_\u001b[0m \u001b[0;34m=\u001b[0m \u001b[0mig\u001b[0m\u001b[0;34m(\u001b[0m\u001b[0mnet\u001b[0m\u001b[0;34m,\u001b[0m \u001b[0mx_\u001b[0m\u001b[0;34m,\u001b[0m \u001b[0mlabels\u001b[0m\u001b[0;34m,\u001b[0m \u001b[0mused\u001b[0m\u001b[0;34m=\u001b[0m\u001b[0;32mFalse\u001b[0m\u001b[0;34m)\u001b[0m\u001b[0;34m\u001b[0m\u001b[0;34m\u001b[0m\u001b[0m\n\u001b[1;32m     41\u001b[0m     \u001b[0;32mif\u001b[0m \u001b[0mtorch\u001b[0m\u001b[0;34m.\u001b[0m\u001b[0misnan\u001b[0m\u001b[0;34m(\u001b[0m\u001b[0mix\u001b[0m\u001b[0;34m)\u001b[0m\u001b[0;34m.\u001b[0m\u001b[0many\u001b[0m\u001b[0;34m(\u001b[0m\u001b[0;34m)\u001b[0m \u001b[0;32mor\u001b[0m \u001b[0mtorch\u001b[0m\u001b[0;34m.\u001b[0m\u001b[0misnan\u001b[0m\u001b[0;34m(\u001b[0m\u001b[0mix_\u001b[0m\u001b[0;34m)\u001b[0m\u001b[0;34m.\u001b[0m\u001b[0many\u001b[0m\u001b[0;34m(\u001b[0m\u001b[0;34m)\u001b[0m\u001b[0;34m:\u001b[0m\u001b[0;34m\u001b[0m\u001b[0;34m\u001b[0m\u001b[0m\n",
      "\u001b[0;32m~/robust_interpretations/utils/interp_generators.py\u001b[0m in \u001b[0;36msimple_gradient\u001b[0;34m(net, samples, labels, used)\u001b[0m\n\u001b[1;32m     29\u001b[0m     \u001b[0mlogits\u001b[0m \u001b[0;34m=\u001b[0m \u001b[0mnet\u001b[0m\u001b[0;34m.\u001b[0m\u001b[0mlogits\u001b[0m\u001b[0;34m\u001b[0m\u001b[0;34m\u001b[0m\u001b[0m\n\u001b[1;32m     30\u001b[0m     \u001b[0mbp_mat\u001b[0m \u001b[0;34m=\u001b[0m \u001b[0mtorch\u001b[0m\u001b[0;34m.\u001b[0m\u001b[0mnn\u001b[0m\u001b[0;34m.\u001b[0m\u001b[0mfunctional\u001b[0m\u001b[0;34m.\u001b[0m\u001b[0mone_hot\u001b[0m\u001b[0;34m(\u001b[0m\u001b[0mlabels\u001b[0m\u001b[0;34m,\u001b[0m \u001b[0mnum_classes\u001b[0m\u001b[0;34m=\u001b[0m\u001b[0;36m10\u001b[0m\u001b[0;34m)\u001b[0m\u001b[0;34m.\u001b[0m\u001b[0mfloat\u001b[0m\u001b[0;34m(\u001b[0m\u001b[0;34m)\u001b[0m\u001b[0;34m\u001b[0m\u001b[0;34m\u001b[0m\u001b[0m\n\u001b[0;32m---> 31\u001b[0;31m     \u001b[0mgrads\u001b[0m \u001b[0;34m=\u001b[0m \u001b[0mtorch\u001b[0m\u001b[0;34m.\u001b[0m\u001b[0mautograd\u001b[0m\u001b[0;34m.\u001b[0m\u001b[0mgrad\u001b[0m\u001b[0;34m(\u001b[0m\u001b[0mlogits\u001b[0m \u001b[0;34m*\u001b[0m \u001b[0mbp_mat\u001b[0m\u001b[0;34m,\u001b[0m \u001b[0msamples\u001b[0m\u001b[0;34m,\u001b[0m \u001b[0mgrad_outputs\u001b[0m\u001b[0;34m=\u001b[0m\u001b[0mbp_mat\u001b[0m\u001b[0;34m,\u001b[0m \u001b[0mcreate_graph\u001b[0m\u001b[0;34m=\u001b[0m\u001b[0;32mTrue\u001b[0m\u001b[0;34m)\u001b[0m\u001b[0;34m[\u001b[0m\u001b[0;36m0\u001b[0m\u001b[0;34m]\u001b[0m\u001b[0;34m.\u001b[0m\u001b[0msqueeze\u001b[0m\u001b[0;34m(\u001b[0m\u001b[0;34m)\u001b[0m\u001b[0;34m\u001b[0m\u001b[0;34m\u001b[0m\u001b[0m\n\u001b[0m\u001b[1;32m     32\u001b[0m     \u001b[0msaliency\u001b[0m \u001b[0;34m=\u001b[0m \u001b[0mtorch\u001b[0m\u001b[0;34m.\u001b[0m\u001b[0mabs\u001b[0m\u001b[0;34m(\u001b[0m\u001b[0mgrads\u001b[0m\u001b[0;34m)\u001b[0m\u001b[0;34m\u001b[0m\u001b[0;34m\u001b[0m\u001b[0m\n\u001b[1;32m     33\u001b[0m     \u001b[0;31m# normalize each saliency map by dividing each component of each saliency map\u001b[0m\u001b[0;34m\u001b[0m\u001b[0;34m\u001b[0m\u001b[0;34m\u001b[0m\u001b[0m\n",
      "\u001b[0;32m~/miniconda3/envs/py37/lib/python3.7/site-packages/torch/autograd/__init__.py\u001b[0m in \u001b[0;36mgrad\u001b[0;34m(outputs, inputs, grad_outputs, retain_graph, create_graph, only_inputs, allow_unused)\u001b[0m\n\u001b[1;32m    147\u001b[0m     return Variable._execution_engine.run_backward(\n\u001b[1;32m    148\u001b[0m         \u001b[0moutputs\u001b[0m\u001b[0;34m,\u001b[0m \u001b[0mgrad_outputs\u001b[0m\u001b[0;34m,\u001b[0m \u001b[0mretain_graph\u001b[0m\u001b[0;34m,\u001b[0m \u001b[0mcreate_graph\u001b[0m\u001b[0;34m,\u001b[0m\u001b[0;34m\u001b[0m\u001b[0;34m\u001b[0m\u001b[0m\n\u001b[0;32m--> 149\u001b[0;31m         inputs, allow_unused)\n\u001b[0m\u001b[1;32m    150\u001b[0m \u001b[0;34m\u001b[0m\u001b[0m\n\u001b[1;32m    151\u001b[0m \u001b[0;34m\u001b[0m\u001b[0m\n",
      "\u001b[0;31mKeyboardInterrupt\u001b[0m: "
     ]
    }
   ],
   "source": [
    "for i in range(50):\n",
    "    for samples, labels in test_loader:\n",
    "        samples,labels = samples.to(device),labels.to(device)\n",
    "        n,ix = utils.norm_diff_interp(net, samples, labels)\n",
    "    for samples, labels in train_loader:\n",
    "        samples,labels = samples.to(device),labels.to(device)\n",
    "        n,ix = utils.norm_diff_interp(net, samples, labels)\n",
    "    print(f'epoch {i}')"
   ]
  },
  {
   "cell_type": "code",
   "execution_count": 20,
   "metadata": {},
   "outputs": [
    {
     "name": "stdout",
     "output_type": "stream",
     "text": [
      "Files already downloaded and verified\n",
      "Files already downloaded and verified\n"
     ]
    }
   ],
   "source": [
    "# get data\n",
    "dl = DataLoader(dataset='CIFAR-10', tr_batch_size=1, te_batch_size=1, path='../data', augment=False)\n",
    "test_loader = dl.test_loader\n",
    "train_loader = dl.train_loader"
   ]
  },
  {
   "cell_type": "markdown",
   "metadata": {},
   "source": [
    "### Check out CIFAR-10 examples"
   ]
  },
  {
   "cell_type": "code",
   "execution_count": 67,
   "metadata": {},
   "outputs": [
    {
     "name": "stdout",
     "output_type": "stream",
     "text": [
      "net(sample) = 2\n"
     ]
    },
    {
     "data": {
      "image/png": "[encoded data removed]",
      "text/plain": [
       "<Figure size 720x216 with 4 Axes>"
      ]
     },
     "metadata": {
      "needs_background": "light"
     },
     "output_type": "display_data"
    }
   ],
   "source": [
    "sample,label = next(iter(train_loader))\n",
    "sample,label = sample.to(device),label.to(device)\n",
    "\n",
    "# used = False needed if sample has not yet been converted to \n",
    "# a torch.Variable and made to require gradient\n",
    "s1 = igs.smoothgrad(net, sample, label, j=15, scale=1., used=False)\n",
    "s2 = igs.simple_gradient(net, sample, label, used=False, normalize=False)\n",
    "sample = (sample-sample.min())/(sample.max()-sample.min())\n",
    "\n",
    "fig = plt.figure(figsize=(10,3), constrained_layout=True)\n",
    "spec = gridspec.GridSpec(ncols=2, nrows=1, figure=fig)\n",
    "\n",
    "print(f'net(sample) = {torch.argmax(net(sample))}')\n",
    "\n",
    "ax1 = fig.add_subplot(spec[0,0])\n",
    "ax1.title.set_text('sample')\n",
    "plt.imshow(sample.squeeze().permute(1,2,0).cpu().numpy())\n",
    "plt.colorbar()\n",
    "\n",
    "ax2 = fig.add_subplot(spec[0,1])\n",
    "ax2.title.set_text('simple gradient')\n",
    "plt.imshow(s1.squeeze().cpu().detach().numpy(), cmap='cool')\n",
    "plt.colorbar()\n",
    "\n",
    "plt.show()"
   ]
  },
  {
   "cell_type": "markdown",
   "metadata": {},
   "source": [
    "#### CIFAR-10 class labels\n",
    "<font size=\"1\"> \n",
    "    airplane : 0,\n",
    "    automobile : 1,\n",
    "    bird : 2,\n",
    "    cat : 3,\n",
    "    deer : 4,\n",
    "    dog : 5,\n",
    "    frog : 6,\n",
    "    horse : 7,\n",
    "    ship : 8,\n",
    "    truck : 9\n",
    "</font>"
   ]
  },
  {
   "cell_type": "markdown",
   "metadata": {},
   "source": [
    "### Make sure that parallelized version of simple gradients is working correctly\n",
    "\n",
    "They did perform the same way, so the unparallelized version was removed."
   ]
  },
  {
   "cell_type": "markdown",
   "metadata": {},
   "source": [
    "sample1,label1 = next(iter(train_loader))\n",
    "sample2,label2 = next(iter(train_loader))\n",
    "samples,labels = torch.cat([sample1,sample2],dim=0),torch.cat([label1,label2],dim=0)\n",
    "samples,labels = samples.to(device),labels.to(device)\n",
    "\n",
    "# used = False needed if sample has not yet been converted to \n",
    "# a torch.Variable and made to require gradient\n",
    "s = igs.simple_gradients(net, samples, labels, used=False)\n",
    "s1 = igs.simple_gradient(net, samples[1].unsqueeze(0), labels[1].unsqueeze(0), used=False)\n",
    "\n",
    "print(s.shape)\n",
    "\n",
    "fig = plt.figure(figsize=(7,7), constrained_layout=True)\n",
    "spec = gridspec.GridSpec(ncols=2, nrows=3, figure=fig)\n",
    "\n",
    "print(f'net(sample1, sample2) = {torch.argmax(net(samples), dim=1)}')\n",
    "\n",
    "ax1 = fig.add_subplot(spec[0,0])\n",
    "ax1.title.set_text('sample1')\n",
    "plt.imshow(sample1.squeeze().cpu().numpy(), cmap='binary')\n",
    "plt.colorbar()\n",
    "\n",
    "ax2 = fig.add_subplot(spec[0,1])\n",
    "ax2.title.set_text('simple gradient for sample1')\n",
    "plt.imshow(s[0].cpu().detach().numpy(), cmap='binary')\n",
    "plt.colorbar()\n",
    "\n",
    "ax3 = fig.add_subplot(spec[1,0])\n",
    "ax3.title.set_text('sample2')\n",
    "plt.imshow(sample2.squeeze().cpu().numpy(), cmap='binary')\n",
    "plt.colorbar()\n",
    "\n",
    "ax4 = fig.add_subplot(spec[1,1])\n",
    "ax4.title.set_text('simple gradient for sample2')\n",
    "plt.imshow(s[1].cpu().detach().numpy(), cmap='binary')\n",
    "plt.colorbar()\n",
    "\n",
    "ax5 = fig.add_subplot(spec[2,1])\n",
    "ax5.title.set_text('simple gradient for sample2')\n",
    "plt.imshow(s1.cpu().detach().numpy(), cmap='binary')\n",
    "plt.colorbar()\n",
    "\n",
    "plt.show()"
   ]
  },
  {
   "cell_type": "markdown",
   "metadata": {},
   "source": [
    "### Inspect effect of randomly perturbing a sample"
   ]
  },
  {
   "cell_type": "code",
   "execution_count": 11,
   "metadata": {},
   "outputs": [
    {
     "name": "stdout",
     "output_type": "stream",
     "text": [
      "max value: 2.821486711502075, min value: -0.4242129623889923\n",
      "max value: 2.821500062942505, min value: -0.42419999837875366\n",
      "net(sample1) = 2, net(sample2) = 2\n"
     ]
    },
    {
     "data": {
      "image/png": "[encoded data removed]",
      "text/plain": [
       "<Figure size 504x216 with 4 Axes>"
      ]
     },
     "metadata": {
      "needs_background": "light"
     },
     "output_type": "display_data"
    }
   ],
   "source": [
    "sample1,label1 = next(iter(train_loader))\n",
    "sample1,label1 = sample1.to(device),label1.to(device)\n",
    "sample2 = aus.perturb_randomly(sample1, scale=.3)\n",
    "\n",
    "print(f'max value: {sample1.max().item()}, min value: {sample1.min().item()}')\n",
    "print(f'max value: {sample2.max().item()}, min value: {sample2.min().item()}')\n",
    "print(f'net(sample1) = {torch.argmax(net(sample1))}, net(sample2) = {torch.argmax(net(sample2))}')\n",
    "\n",
    "fig = plt.figure(figsize=(7,3), constrained_layout=True)\n",
    "spec = gridspec.GridSpec(ncols=2, nrows=1, figure=fig)\n",
    "\n",
    "ax1 = fig.add_subplot(spec[0,0])\n",
    "ax1.title.set_text('sample1')\n",
    "plt.imshow(sample1.squeeze().cpu().numpy(), cmap='binary')\n",
    "plt.colorbar()\n",
    "\n",
    "ax2 = fig.add_subplot(spec[0,1])\n",
    "ax2.title.set_text('sample2')\n",
    "plt.imshow(sample2.squeeze().cpu().numpy(), cmap='binary')\n",
    "plt.colorbar()\n",
    "\n",
    "plt.show()"
   ]
  },
  {
   "cell_type": "code",
   "execution_count": null,
   "metadata": {},
   "outputs": [],
   "source": []
  }
 ],
 "metadata": {
  "kernelspec": {
   "display_name": "Python 3",
   "language": "python",
   "name": "python3"
  },
  "language_info": {
   "codemirror_mode": {
    "name": "ipython",
    "version": 3
   },
   "file_extension": ".py",
   "mimetype": "text/x-python",
   "name": "python",
   "nbconvert_exporter": "python",
   "pygments_lexer": "ipython3",
   "version": "3.7.4"
  }
 },
 "nbformat": 4,
 "nbformat_minor": 4
}

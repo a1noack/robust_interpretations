{
 "cells": [
  {
   "cell_type": "code",
   "execution_count": 1,
   "metadata": {},
   "outputs": [],
   "source": [
    "import torch\n",
    "import sys\n",
    "sys.path.append(\"..\")\n",
    "import utils.interp_generators as igs\n",
    "from utils.models import LeNet, DDNet, SimpleCNN\n",
    "from utils.data_loaders import DataLoader\n",
    "\n",
    "# makes default tensor a CUDA tensor so GPU can be used\n",
    "device = torch.device(2 if torch.cuda.is_available() else 'cpu')\n",
    "torch.cuda.set_device(device)\n",
    "if device != 'cpu':\n",
    "    torch.set_default_tensor_type('torch.cuda.FloatTensor')"
   ]
  },
  {
   "cell_type": "markdown",
   "metadata": {},
   "source": [
    "### Load the robust model to be used to generate the ground truth saliency maps"
   ]
  },
  {
   "cell_type": "code",
   "execution_count": 2,
   "metadata": {},
   "outputs": [],
   "source": [
    "dataset = 'MNIST'\n",
    "\n",
    "# net_name = f'../trained_models/MNIST/interp_generators/pgd_eps.3_niter40_epsiter.01_ord2_epochs30'\n",
    "# net_name = f'../trained_models/MNIST/training_round_2/ep0_wd0_jr0.01_2'\n",
    "net_name = f'../trained_models/MNIST/interp_generators/simplecnn_pgd_eps1.5_niter40_epsiter.05_ord2_epochs45'\n",
    "# net_name = f'../trained_models/MNIST/interp_reg_tests3/MNIST_ir10.1_scale0.15_3'\n",
    "net = SimpleCNN()\n",
    "net.load_state_dict(torch.load(net_name))\n",
    "net.eval()\n",
    "\n",
    "dl = DataLoader(dataset=dataset, augment=False, path='../data', tr_batch_size=1, te_batch_size=1)\n",
    "train_loader = dl.train_loader\n",
    "test_loader = dl.test_loader"
   ]
  },
  {
   "cell_type": "markdown",
   "metadata": {},
   "source": [
    "### For each sample in both the train and test sets, generate a ground truth saliency map and save it"
   ]
  },
  {
   "cell_type": "code",
   "execution_count": null,
   "metadata": {
    "scrolled": true
   },
   "outputs": [
    {
     "name": "stdout",
     "output_type": "stream",
     "text": [
      "0/60000\n",
      "1000/60000\n",
      "2000/60000\n",
      "3000/60000\n",
      "4000/60000\n",
      "5000/60000\n",
      "6000/60000\n",
      "7000/60000\n",
      "8000/60000\n",
      "9000/60000\n",
      "10000/60000\n",
      "11000/60000\n",
      "12000/60000\n",
      "13000/60000\n",
      "14000/60000\n",
      "15000/60000\n",
      "16000/60000\n",
      "17000/60000\n",
      "18000/60000\n",
      "19000/60000\n",
      "20000/60000\n",
      "21000/60000\n",
      "22000/60000\n",
      "23000/60000\n",
      "24000/60000\n",
      "25000/60000\n",
      "26000/60000\n",
      "27000/60000\n",
      "28000/60000\n",
      "29000/60000\n",
      "30000/60000\n",
      "31000/60000\n",
      "32000/60000\n",
      "33000/60000\n",
      "34000/60000\n",
      "35000/60000\n",
      "36000/60000\n",
      "37000/60000\n",
      "38000/60000\n",
      "39000/60000\n",
      "40000/60000\n",
      "41000/60000\n",
      "42000/60000\n",
      "43000/60000\n",
      "44000/60000\n",
      "45000/60000\n",
      "46000/60000\n",
      "47000/60000\n",
      "48000/60000\n",
      "49000/60000\n",
      "50000/60000\n",
      "51000/60000\n",
      "52000/60000\n",
      "53000/60000\n",
      "54000/60000\n",
      "55000/60000\n",
      "56000/60000\n",
      "57000/60000\n"
     ]
    }
   ],
   "source": [
    "for loader_name in ['train', 'test']:\n",
    "    i = 0\n",
    "    if loader_name == 'train':\n",
    "        loader = train_loader\n",
    "    else:\n",
    "        loader = test_loader\n",
    "    for sample,label in loader:\n",
    "        if i % 1000 == 0:\n",
    "            print(f'{i}/{len(loader.dataset)}')\n",
    "        # for sample,label in train_loader:\n",
    "        sample,label = sample.to(device),label.to(device)\n",
    "\n",
    "        saliency = igs.smoothgrad(net, sample, label, j=50, scale=.15, used=False, normalize=False)\n",
    "        # saliency = igs.simple_gradient(net, sample, label, used=False)\n",
    "\n",
    "        torch.save(sample, f'../data/MNIST/simplecnn_mnist_interps/{loader_name}/label_{label.item()}/sample_{i}.pt')\n",
    "        torch.save(saliency.reshape(sample.shape), \n",
    "                   f'../data/MNIST/simplecnn_mnist_interps/{loader_name}_saliencies/label_{label.item()}/saliency_{i}.pt')\n",
    "        i+=1"
   ]
  }
 ],
 "metadata": {
  "kernelspec": {
   "display_name": "Python 3",
   "language": "python",
   "name": "python3"
  },
  "language_info": {
   "codemirror_mode": {
    "name": "ipython",
    "version": 3
   },
   "file_extension": ".py",
   "mimetype": "text/x-python",
   "name": "python",
   "nbconvert_exporter": "python",
   "pygments_lexer": "ipython3",
   "version": "3.7.4"
  }
 },
 "nbformat": 4,
 "nbformat_minor": 4
}
